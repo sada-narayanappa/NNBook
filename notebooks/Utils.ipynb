{
 "cells": [
  {
   "cell_type": "code",
   "execution_count": 5,
   "metadata": {},
   "outputs": [],
   "source": [
    "#skip\n",
    "%run 00_basic.ipynb"
   ]
  },
  {
   "cell_type": "code",
   "execution_count": 1,
   "metadata": {},
   "outputs": [
    {
     "name": "stdout",
     "output_type": "stream",
     "text": [
      "Overwriting /Users/e346104/bin/pdfmerge.py\n"
     ]
    }
   ],
   "source": [
    "%%writefile  ~/bin/pdfmerge.py\n",
    "#!/usr/local/bin/python \n",
    "import os, PyPDF2, glob, datetime\n",
    "from PyPDF2 import PdfFileReader, PdfFileMerger\n",
    "\n",
    "\n",
    "def pdfmerge(dir=\".\"):\n",
    "    pdfWriter = PyPDF2.PdfFileWriter()\n",
    "\n",
    "    for f in sorted(glob.glob(f\"{dir}/*.pdf\")):\n",
    "        if ( f.find(\"out.pdf\") >0):\n",
    "            continue;\n",
    "        inp = open(f, \"rb\")  # <== DO NOT USE \"with\" - you must keep it open \n",
    "        pdfReader = PyPDF2.PdfFileReader(inp)\n",
    "        print(f\"processing {f} ; #{pdfReader.numPages}\")\n",
    "        for pageNum in range(pdfReader.numPages):\n",
    "            pageObj = pdfReader.getPage(pageNum)\n",
    "            pdfWriter.addPage(pageObj)\n",
    "\n",
    "    with open(f\"{dir}/out.pdf\", \"wb\") as out:\n",
    "        pdfWriter.write(out)\n",
    "\n",
    "def inJupyter():\n",
    "    try: get_ipython; return 1; \n",
    "    except: return 0\n",
    "#-----------------------------------------------------------------------------------\n",
    "if __name__ == '__main__':\n",
    "    if (not inJupyter()):\n",
    "        t1 = datetime.datetime.now()\n",
    "        pdfmerge()\n",
    "        t2 = datetime.datetime.now()\n",
    "    print(f\"All Done in {str(t2-t1)} ***\")"
   ]
  },
  {
   "cell_type": "code",
   "execution_count": 16,
   "metadata": {},
   "outputs": [],
   "source": [
    "#%%writefile  ~/bin/createbook.py\n",
    "#!/usr/local/bin/python \n",
    "import os, PyPDF2, glob, datetime\n",
    "from PyPDF2 import PdfFileReader, PdfFileMerger\n",
    "\n",
    "\n",
    "ignore='''Utils 00_basic\n",
    "'''.split()\n",
    "\n",
    "CWD=os.path.abspath(os.getcwd())\n",
    "\n",
    "def createbook(dir=\"..\"):\n",
    "    for f in sorted(glob.glob(f\"{dir}/*.ipynb\")):\n",
    "        bn=os.path.splitext(os.path.basename(f))[0]\n",
    "        if ( bn in ignore):\n",
    "            print(f\"ignoring {f}\")\n",
    "            continue;\n",
    "        cmd = '''\n",
    "        f\"#Processing {f}\"\n",
    "        jupyter nbconvert --to html --execute {f} --output {CWD}/{bn}.html\n",
    "        \n",
    "        '''\n",
    "        print()\n",
    "\n",
    "def inJupyter():\n",
    "    try: get_ipython; return 1; \n",
    "    except: return 0\n",
    "#-----------------------------------------------------------------------------------\n",
    "if __name__ == '__main__':\n",
    "    if (not inJupyter()):\n",
    "        t1 = datetime.datetime.now()\n",
    "        createbook()\n",
    "        t2 = datetime.datetime.now()\n",
    "        print(f\"All Done in {str(t2-t1)} ***\")"
   ]
  },
  {
   "cell_type": "code",
   "execution_count": 56,
   "metadata": {},
   "outputs": [
    {
     "name": "stdout",
     "output_type": "stream",
     "text": [
      "#cells : 4, nbformat: 4.4\n",
      "b'{\\n \"cells\": [\\n  {\\n   \"cell_type\": \"code\",\\n   \"execution_count\": 2,\\n   \"metadata\": {},\\n   \"outputs\": '\n",
      "0: Skipping ['#skip\\n', '%run 00_basic.ipynb']\n"
     ]
    }
   ],
   "source": [
    "file=\"300_NNTimeGenerators.ipynb\"\n",
    "with open(file, \"rb\") as f:\n",
    "    d = f.read();\n",
    "    \n",
    "j=json.loads(d)\n",
    "print(f'#cells : {len(j[\"cells\"])}, nbformat: {j[\"nbformat\"]}.{j[\"nbformat_minor\"]}')\n",
    "print(f'{d[0:100]}')\n",
    "jc = j[\"cells\"]\n",
    "for i, js in enumerate(jc):\n",
    "    jss=js['source']\n",
    "    if ( len(jss) <= 0): continue\n",
    "    if (js['source'][0].startswith(\"#skip\")):\n",
    "        print(f\"{i}: Skipping {jss}\")"
   ]
  },
  {
   "cell_type": "code",
   "execution_count": 116,
   "metadata": {},
   "outputs": [
    {
     "name": "stdout",
     "output_type": "stream",
     "text": [
      "Yes\n"
     ]
    },
    {
     "data": {
      "text/markdown": [
       "# Time Genreators in keras\n",
       "\n",
       "\n",
       "\n",
       "In Time-series analysis, more often we need to transform the data into a different structure before it can be fed to LSTM.\n",
       "\n",
       "\n",
       "\n",
       "The Keras DNN library provides the TimeseriesGenerator to facilitate such transformation.\n",
       "\n",
       "\n",
       "\n",
       "as a motivating example, suppose we have a time series data:\n",
       "\n",
       "$[0,1,2,3,4,5,,7,8,9]$ and we are using past 2 readings to predict the current data, then we need to transform the data as:\n",
       "\n",
       "\n",
       "\n",
       "```\n",
       "\n",
       "[\n",
       "\n",
       "    [0,1]   2\n",
       "\n",
       "    [1,2]   3\n",
       "\n",
       "    ...\n",
       "\n",
       "    [6,7]   8\n",
       "\n",
       "    [7,8]   9\n",
       "\n",
       "]\n",
       "\n",
       "```\n",
       "\n",
       "\n",
       "\n",
       "There are many ways to do this; However TimeseriesGenerator makes this transformation a breeze"
      ],
      "text/plain": [
       "<IPython.core.display.Markdown object>"
      ]
     },
     "metadata": {},
     "output_type": "display_data"
    }
   ],
   "source": [
    "from IPython.display import display, Markdown, Latex, HTML\n",
    "js=jc[1]\n",
    "jss=js['source']\n",
    "if ( js['cell_type'] == 'markdown' ):\n",
    "    print(f\"Yes\")\n",
    "    out=Markdown(\"\\n\".join(jss))\n",
    "    display(out)    "
   ]
  },
  {
   "cell_type": "code",
   "execution_count": null,
   "metadata": {},
   "outputs": [],
   "source": []
  }
 ],
 "metadata": {
  "kernelspec": {
   "display_name": "Python 3",
   "language": "python",
   "name": "python3"
  },
  "language_info": {
   "codemirror_mode": {
    "name": "ipython",
    "version": 3
   },
   "file_extension": ".py",
   "mimetype": "text/x-python",
   "name": "python",
   "nbconvert_exporter": "python",
   "pygments_lexer": "ipython3",
   "version": "3.7.4"
  }
 },
 "nbformat": 4,
 "nbformat_minor": 4
}
