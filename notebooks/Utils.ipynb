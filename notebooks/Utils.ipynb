{
 "cells": [
  {
   "cell_type": "code",
   "execution_count": 5,
   "metadata": {},
   "outputs": [],
   "source": [
    "#skip\n",
    "%run 00_basic.ipynb"
   ]
  },
  {
   "cell_type": "markdown",
   "metadata": {},
   "source": [
    "# Utilities \n",
    "\n",
    "These are some set of utilities to create PDFs etc. I am having difficulty in creating PDF usig latex. For example $$c = \\sqrt{a^2 + b^2}$$ comes out as text instead of equation.\n"
   ]
  },
  {
   "cell_type": "code",
   "execution_count": 2,
   "metadata": {},
   "outputs": [
    {
     "name": "stdout",
     "output_type": "stream",
     "text": [
      "Writing /Users/snarayan/bin/pdfmerge.py\n"
     ]
    }
   ],
   "source": [
    "%%writefile  ~/bin/pdfmerge.py\n",
    "#!/usr/local/bin/python \n",
    "\n",
    "# DO NOT EDIT - generated from NNBook/notebooks/Utils.ipynb\n",
    "# It will merge all the PDF files in a direcrory and creates out.pdf\n",
    "#\n",
    "import os, PyPDF2, glob, datetime\n",
    "from PyPDF2 import PdfFileReader, PdfFileMerger\n",
    "\n",
    "\n",
    "def pdfmerge(dir=\".\"):\n",
    "    pdfWriter = PyPDF2.PdfFileWriter()\n",
    "\n",
    "    for f in sorted(glob.glob(f\"{dir}/*.pdf\")):\n",
    "        if ( f.find(\"out.pdf\") >0):\n",
    "            continue;\n",
    "        inp = open(f, \"rb\")  # <== DO NOT USE \"with\" - you must keep it open \n",
    "        pdfReader = PyPDF2.PdfFileReader(inp)\n",
    "        print(f\"processing {f} ; #{pdfReader.numPages}\")\n",
    "        for pageNum in range(pdfReader.numPages):\n",
    "            pageObj = pdfReader.getPage(pageNum)\n",
    "            pdfWriter.addPage(pageObj)\n",
    "\n",
    "    with open(f\"{dir}/out.pdf\", \"wb\") as out:\n",
    "        pdfWriter.write(out)\n",
    "\n",
    "def inJupyter():\n",
    "    try: get_ipython; return 1; \n",
    "    except: return 0\n",
    "#-----------------------------------------------------------------------------------\n",
    "if __name__ == '__main__':\n",
    "    if (not inJupyter()):\n",
    "        t1 = datetime.datetime.now()\n",
    "        pdfmerge()\n",
    "        t2 = datetime.datetime.now()\n",
    "    print(f\"All Done in {str(t2-t1)} ***\")"
   ]
  },
  {
   "cell_type": "code",
   "execution_count": 6,
   "metadata": {},
   "outputs": [],
   "source": [
    "#%%writefile  ~/bin/createbook.py\n",
    "#!/usr/local/bin/python \n",
    "import os, glob, datetime, colabexts, colabexts.jcommon as jcommon\n",
    "#from PyPDF2 import PdfFileReader, PdfFileMerger\n",
    "\n",
    "ignore='''Utils 00_basic\n",
    "'''.split()\n",
    "\n",
    "CWD=os.path.abspath(os.getcwd())\n",
    "\n",
    "def createbook(dir=\"..\"):\n",
    "    for f in sorted(glob.glob(f\"{dir}/*.ipynb\")):\n",
    "        bn=os.path.splitext(os.path.basename(f))[0]\n",
    "        if ( bn in ignore):\n",
    "            print(f\"ignoring {f}\")\n",
    "            continue;\n",
    "        cmd = '''\n",
    "        f\"#Processing {f}\"\n",
    "        jupyter nbconvert --to html --execute {f} --output {CWD}/{bn}.html\n",
    "        \n",
    "        '''\n",
    "        print()\n",
    "\n",
    "#-----------------------------------------------------------------------------------\n",
    "if __name__ == '__main__':\n",
    "    if (not jcommon.inJupyter()):\n",
    "        t1 = datetime.datetime.now()\n",
    "        createbook()\n",
    "        t2 = datetime.datetime.now()\n",
    "        print(f\"All Done in {str(t2-t1)} ***\")"
   ]
  },
  {
   "cell_type": "code",
   "execution_count": 6,
   "metadata": {},
   "outputs": [
    {
     "name": "stdout",
     "output_type": "stream",
     "text": [
      "#cells : 7, nbformat: 4.4\n",
      "b'{\\n \"cells\": [\\n  {\\n   \"cell_type\": \"code\",\\n   \"execution_count\": 5,\\n   \"metadata\": {},\\n   \"outputs\": '\n",
      "0: Skipping ['#skip\\n', '%run 00_basic.ipynb']\n"
     ]
    }
   ],
   "source": [
    "file=\"Utils.ipynb\"\n",
    "with open(file, \"rb\") as f:\n",
    "    d = f.read();\n",
    "    \n",
    "j=json.loads(d)\n",
    "print(f'#cells : {len(j[\"cells\"])}, nbformat: {j[\"nbformat\"]}.{j[\"nbformat_minor\"]}')\n",
    "print(f'{d[0:100]}')\n",
    "jc = j[\"cells\"]\n",
    "for i, js in enumerate(jc):\n",
    "    jss=js['source']\n",
    "    if ( len(jss) <= 0): continue\n",
    "    if (js['source'][0].startswith(\"#skip\")):\n",
    "        print(f\"{i}: Skipping {jss}\")"
   ]
  },
  {
   "cell_type": "code",
   "execution_count": 22,
   "metadata": {},
   "outputs": [
    {
     "name": "stdout",
     "output_type": "stream",
     "text": [
      "Yes\n"
     ]
    },
    {
     "data": {
      "text/markdown": [
       "# Utilities \n",
       "\n",
       "\n",
       "\n",
       "These are some set of utilities to create PDFs etc. I am having difficulty in creating PDF usig latex. For example $$c = \\sqrt{a^2 + b^2}$$ comes out as text instead of equation.\n"
      ],
      "text/plain": [
       "<IPython.core.display.Markdown object>"
      ]
     },
     "metadata": {},
     "output_type": "display_data"
    }
   ],
   "source": [
    "from IPython.display import display, Markdown, Latex, HTML\n",
    "js=jc[1]\n",
    "jss=js['source']\n",
    "if ( js['cell_type'] == 'markdown' ):\n",
    "    print(f\"Yes\")\n",
    "    out=Markdown(\"\\n\".join(jss))\n",
    "    display(out)    "
   ]
  },
  {
   "cell_type": "code",
   "execution_count": 31,
   "metadata": {},
   "outputs": [],
   "source": [
    "from selenium import webdriver\n",
    "from selenium.webdriver.common.keys import Keys\n",
    "from selenium.webdriver.chrome.options import Options\n",
    "\n",
    "# Steps:\n",
    "# 1. get nbconvert\n",
    "#file=\"../01-Stats-1T-test.ipynb\"\n",
    "#opts=\"--RegexRemovePreprocessor.patterns=\"['\\s*\\Z','.*#skip.*']\"\n",
    "#cmds=f\"jupyter nbconvert --to html  --execute {file} {opts} --output /tmp/t.html\"\n",
    "\n",
    "options = Options()\n",
    "#options.headless = True\n",
    "browser = webdriver.Chrome(options=options)\n",
    "browser.get('file:////tmp/t.html')\n",
    "\n"
   ]
  },
  {
   "cell_type": "code",
   "execution_count": 38,
   "metadata": {},
   "outputs": [],
   "source": [
    "from selenium import webdriver\n",
    "import json\n",
    "\n",
    "chrome_options = webdriver.ChromeOptions()\n",
    "settings = {\n",
    "       \"recentDestinations\": [{\n",
    "            \"id\": \"Save as PDF\",\n",
    "            \"origin\": \"local\",\n",
    "            \"account\": \"\",\n",
    "        }],\n",
    "        \"selectedDestinationId\": \"Save as PDF\",\n",
    "        \"version\": 2\n",
    "    }\n",
    "prefs = {\n",
    "    'printing.print_preview_sticky_settings.appState': json.dumps(settings)\n",
    "}\n",
    "chrome_options.add_experimental_option('prefs', prefs)\n",
    "chrome_options.add_argument('--kiosk-printing')\n",
    "#CHROMEDRIVER_PATH = '/usr/local/bin/chromedriver'\n",
    "driver = webdriver.Chrome(chrome_options=chrome_options)\n",
    "driver.get(\"file:///tmp/t.html\")\n",
    "driver.execute_script('window.print();')\n",
    "driver.quit()\n",
    "\n"
   ]
  }
 ],
 "metadata": {
  "hide_input": false,
  "kernelspec": {
   "display_name": "Python 3",
   "language": "python",
   "name": "python3"
  },
  "language_info": {
   "codemirror_mode": {
    "name": "ipython",
    "version": 3
   },
   "file_extension": ".py",
   "mimetype": "text/x-python",
   "name": "python",
   "nbconvert_exporter": "python",
   "pygments_lexer": "ipython3",
   "version": "3.8.3"
  },
  "toc": {
   "base_numbering": 1,
   "nav_menu": {},
   "number_sections": true,
   "sideBar": true,
   "skip_h1_title": false,
   "title_cell": "Table of Contents",
   "title_sidebar": "Contents",
   "toc_cell": false,
   "toc_position": {},
   "toc_section_display": true,
   "toc_window_display": false
  }
 },
 "nbformat": 4,
 "nbformat_minor": 4
}
