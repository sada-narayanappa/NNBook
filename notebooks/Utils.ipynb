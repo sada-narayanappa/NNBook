{
 "cells": [
  {
   "cell_type": "code",
   "execution_count": 5,
   "metadata": {},
   "outputs": [],
   "source": [
    "#skip\n",
    "%run 00_basic.ipynb"
   ]
  },
  {
   "cell_type": "markdown",
   "metadata": {},
   "source": [
    "# Utilities \n",
    "\n",
    "These are some set of utilities to create PDFs etc. I am having difficulty in creating PDF usig latex. For example $$c = \\sqrt{a^2 + b^2}$$ comes out as text instead of equation.\n"
   ]
  },
  {
   "cell_type": "code",
   "execution_count": 1,
   "metadata": {},
   "outputs": [
    {
     "name": "stdout",
     "output_type": "stream",
     "text": [
      "Overwriting /Users/e346104/bin/pdfmerge.py\n"
     ]
    }
   ],
   "source": [
    "%%writefile  ~/bin/pdfmerge.py\n",
    "#!/usr/local/bin/python \n",
    "\n",
    "# DO NOT EDIT - generated from NNBook/notebooks/Utils.ipynb\n",
    "# It will merge all the PDF files in a direcrory and creates out.pdf\n",
    "#\n",
    "import os, PyPDF2, glob, datetime\n",
    "from PyPDF2 import PdfFileReader, PdfFileMerger\n",
    "\n",
    "\n",
    "def pdfmerge(dir=\".\"):\n",
    "    pdfWriter = PyPDF2.PdfFileWriter()\n",
    "\n",
    "    for f in sorted(glob.glob(f\"{dir}/*.pdf\")):\n",
    "        if ( f.find(\"out.pdf\") >0):\n",
    "            continue;\n",
    "        inp = open(f, \"rb\")  # <== DO NOT USE \"with\" - you must keep it open \n",
    "        pdfReader = PyPDF2.PdfFileReader(inp)\n",
    "        print(f\"processing {f} ; #{pdfReader.numPages}\")\n",
    "        for pageNum in range(pdfReader.numPages):\n",
    "            pageObj = pdfReader.getPage(pageNum)\n",
    "            pdfWriter.addPage(pageObj)\n",
    "\n",
    "    with open(f\"{dir}/out.pdf\", \"wb\") as out:\n",
    "        pdfWriter.write(out)\n",
    "\n",
    "def inJupyter():\n",
    "    try: get_ipython; return 1; \n",
    "    except: return 0\n",
    "#-----------------------------------------------------------------------------------\n",
    "if __name__ == '__main__':\n",
    "    if (not inJupyter()):\n",
    "        t1 = datetime.datetime.now()\n",
    "        pdfmerge()\n",
    "        t2 = datetime.datetime.now()\n",
    "    print(f\"All Done in {str(t2-t1)} ***\")"
   ]
  },
  {
   "cell_type": "code",
   "execution_count": 16,
   "metadata": {},
   "outputs": [],
   "source": [
    "#%%writefile  ~/bin/createbook.py\n",
    "#!/usr/local/bin/python \n",
    "import os, PyPDF2, glob, datetime\n",
    "from PyPDF2 import PdfFileReader, PdfFileMerger\n",
    "\n",
    "ignore='''Utils 00_basic\n",
    "'''.split()\n",
    "\n",
    "CWD=os.path.abspath(os.getcwd())\n",
    "\n",
    "def createbook(dir=\"..\"):\n",
    "    for f in sorted(glob.glob(f\"{dir}/*.ipynb\")):\n",
    "        bn=os.path.splitext(os.path.basename(f))[0]\n",
    "        if ( bn in ignore):\n",
    "            print(f\"ignoring {f}\")\n",
    "            continue;\n",
    "        cmd = '''\n",
    "        f\"#Processing {f}\"\n",
    "        jupyter nbconvert --to html --execute {f} --output {CWD}/{bn}.html\n",
    "        \n",
    "        '''\n",
    "        print()\n",
    "\n",
    "def inJupyter():\n",
    "    try: get_ipython; return 1; \n",
    "    except: return 0\n",
    "#-----------------------------------------------------------------------------------\n",
    "if __name__ == '__main__':\n",
    "    if (not inJupyter()):\n",
    "        t1 = datetime.datetime.now()\n",
    "        createbook()\n",
    "        t2 = datetime.datetime.now()\n",
    "        print(f\"All Done in {str(t2-t1)} ***\")"
   ]
  },
  {
   "cell_type": "code",
   "execution_count": 6,
   "metadata": {},
   "outputs": [
    {
     "name": "stdout",
     "output_type": "stream",
     "text": [
      "#cells : 7, nbformat: 4.4\n",
      "b'{\\n \"cells\": [\\n  {\\n   \"cell_type\": \"code\",\\n   \"execution_count\": 5,\\n   \"metadata\": {},\\n   \"outputs\": '\n",
      "0: Skipping ['#skip\\n', '%run 00_basic.ipynb']\n"
     ]
    }
   ],
   "source": [
    "file=\"Utils.ipynb\"\n",
    "with open(file, \"rb\") as f:\n",
    "    d = f.read();\n",
    "    \n",
    "j=json.loads(d)\n",
    "print(f'#cells : {len(j[\"cells\"])}, nbformat: {j[\"nbformat\"]}.{j[\"nbformat_minor\"]}')\n",
    "print(f'{d[0:100]}')\n",
    "jc = j[\"cells\"]\n",
    "for i, js in enumerate(jc):\n",
    "    jss=js['source']\n",
    "    if ( len(jss) <= 0): continue\n",
    "    if (js['source'][0].startswith(\"#skip\")):\n",
    "        print(f\"{i}: Skipping {jss}\")"
   ]
  },
  {
   "cell_type": "code",
   "execution_count": 22,
   "metadata": {},
   "outputs": [
    {
     "name": "stdout",
     "output_type": "stream",
     "text": [
      "Yes\n"
     ]
    },
    {
     "data": {
      "text/markdown": [
       "# Utilities \n",
       "\n",
       "\n",
       "\n",
       "These are some set of utilities to create PDFs etc. I am having difficulty in creating PDF usig latex. For example $$c = \\sqrt{a^2 + b^2}$$ comes out as text instead of equation.\n"
      ],
      "text/plain": [
       "<IPython.core.display.Markdown object>"
      ]
     },
     "metadata": {},
     "output_type": "display_data"
    }
   ],
   "source": [
    "from IPython.display import display, Markdown, Latex, HTML\n",
    "js=jc[1]\n",
    "jss=js['source']\n",
    "if ( js['cell_type'] == 'markdown' ):\n",
    "    print(f\"Yes\")\n",
    "    out=Markdown(\"\\n\".join(jss))\n",
    "    display(out)    "
   ]
  },
  {
   "cell_type": "code",
   "execution_count": 26,
   "metadata": {},
   "outputs": [
    {
     "ename": "ModuleNotFoundError",
     "evalue": "No module named 'IPythonTOC'",
     "output_type": "error",
     "traceback": [
      "\u001b[0;31m---------------------------------------------------------------------------\u001b[0m",
      "\u001b[0;31mModuleNotFoundError\u001b[0m                       Traceback (most recent call last)",
      "\u001b[0;32m<ipython-input-26-1302fc820dd3>\u001b[0m in \u001b[0;36m<module>\u001b[0;34m\u001b[0m\n\u001b[0;32m----> 1\u001b[0;31m \u001b[0;32mfrom\u001b[0m \u001b[0mIPythonTOC\u001b[0m \u001b[0;32mimport\u001b[0m \u001b[0mIPythonTOC\u001b[0m\u001b[0;34m\u001b[0m\u001b[0;34m\u001b[0m\u001b[0m\n\u001b[0m\u001b[1;32m      2\u001b[0m \u001b[0;34m\u001b[0m\u001b[0m\n\u001b[1;32m      3\u001b[0m \u001b[0mtoc\u001b[0m \u001b[0;34m=\u001b[0m \u001b[0mIPythonTOC\u001b[0m\u001b[0;34m(\u001b[0m\u001b[0;34m)\u001b[0m\u001b[0;34m\u001b[0m\u001b[0;34m\u001b[0m\u001b[0m\n",
      "\u001b[0;31mModuleNotFoundError\u001b[0m: No module named 'IPythonTOC'"
     ]
    }
   ],
   "source": [
    "from IPythonTOC import IPythonTOC\n",
    "\n",
    "toc = IPythonTOC()"
   ]
  }
 ],
 "metadata": {
  "kernelspec": {
   "display_name": "Python 3",
   "language": "python",
   "name": "python3"
  },
  "language_info": {
   "codemirror_mode": {
    "name": "ipython",
    "version": 3
   },
   "file_extension": ".py",
   "mimetype": "text/x-python",
   "name": "python",
   "nbconvert_exporter": "python",
   "pygments_lexer": "ipython3",
   "version": "3.7.4"
  }
 },
 "nbformat": 4,
 "nbformat_minor": 4
}
