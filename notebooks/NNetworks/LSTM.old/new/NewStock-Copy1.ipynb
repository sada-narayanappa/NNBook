{
 "cells": [
  {
   "cell_type": "code",
   "execution_count": 2,
   "metadata": {},
   "outputs": [],
   "source": [
    "history_points = 50\n",
    "def csv_to_dataset(csv_path):\n",
    "    data = pd.read_csv(csv_path)\n",
    "    data = data.drop('date', axis=1)\n",
    "    data = data.drop(0, axis=0)\n",
    "\n",
    "    data = data.values\n",
    "\n",
    "    data_normaliser = preprocessing.MinMaxScaler()\n",
    "    data_normalised = data_normaliser.fit_transform(data)\n",
    "\n",
    "    # using the last {history_points} open close high low volume data points, predict the next open value\n",
    "    ohlcv_histories_normalised = np.array([data_normalised[i:i + history_points].copy() for i in range(len(data_normalised) - history_points)])\n",
    "    next_day_open_values_normalised = np.array([data_normalised[:, 0][i + history_points].copy() for i in range(len(data_normalised) - history_points)])\n",
    "    next_day_open_values_normalised = np.expand_dims(next_day_open_values_normalised, -1)\n",
    "\n",
    "    next_day_open_values = np.array([data[:, 0][i + history_points].copy() for i in range(len(data) - history_points)])\n",
    "    next_day_open_values = np.expand_dims(next_day_open_values, -1)\n",
    "\n",
    "    y_normaliser = preprocessing.MinMaxScaler()\n",
    "    y_normaliser.fit(next_day_open_values)\n",
    "\n",
    "    def calc_ema(values, time_period):\n",
    "        # https://www.investopedia.com/ask/answers/122314/what-exponential-moving-average-ema-formula-and-how-ema-calculated.asp\n",
    "        sma = np.mean(values[:, 3])\n",
    "        ema_values = [sma]\n",
    "        k = 2 / (1 + time_period)\n",
    "        for i in range(len(his) - time_period, len(his)):\n",
    "            close = his[i][3]\n",
    "            ema_values.append(close * k + ema_values[-1] * (1 - k))\n",
    "        return ema_values[-1]\n",
    "\n",
    "    technical_indicators = []\n",
    "    for his in ohlcv_histories_normalised:\n",
    "        # note since we are using his[3] we are taking the SMA of the closing price\n",
    "        sma = np.mean(his[:, 3])\n",
    "        macd = calc_ema(his, 12) - calc_ema(his, 26)\n",
    "        technical_indicators.append(np.array([sma]))\n",
    "        # technical_indicators.append(np.array([sma,macd,]))\n",
    "\n",
    "    technical_indicators = np.array(technical_indicators)\n",
    "    technical_indicators = np.array([[0]] * len(technical_indicators))\n",
    "\n",
    "    tech_ind_scaler = preprocessing.MinMaxScaler()\n",
    "    technical_indicators_normalised = tech_ind_scaler.fit_transform(technical_indicators)\n",
    "\n",
    "    assert ohlcv_histories_normalised.shape[0] == next_day_open_values_normalised.shape[0] == technical_indicators_normalised.shape[0]\n",
    "    return ohlcv_histories_normalised, technical_indicators_normalised, next_day_open_values_normalised, next_day_open_values, y_normaliser\n"
   ]
  },
  {
   "cell_type": "code",
   "execution_count": 3,
   "metadata": {},
   "outputs": [
    {
     "data": {
      "text/plain": [
       "(5032, 5)"
      ]
     },
     "execution_count": 3,
     "metadata": {},
     "output_type": "execute_result"
    }
   ],
   "source": [
    "##SADA\n",
    "\n",
    "csv_path=\"MSFT_daily.csv\"\n",
    "data = pd.read_csv(csv_path)\n",
    "data = data.drop(0, axis=0)\n",
    "data.columns=\"date open high low close volume\".split()\n",
    "col='open'\n",
    "#data[f'{col}_diff1'] = data[col] - data[col].shift(1)\n",
    "data.dropna(inplace=True)\n",
    "data\n",
    "\n",
    "scaler = preprocessing.StandardScaler()\n",
    "datan  = scaler.fit_transform(data[data.columns[1:]])\n",
    "#scaler = preprocessing.MinMaxScaler()\n",
    "#datan  = scaler.fit_transform(data[data.columns[1:]])\n",
    "\n",
    "datan.shape"
   ]
  },
  {
   "cell_type": "code",
   "execution_count": 4,
   "metadata": {},
   "outputs": [
    {
     "data": {
      "text/plain": [
       "((4982, 50, 5), (4982, 1), (4982, 1))"
      ]
     },
     "execution_count": 4,
     "metadata": {},
     "output_type": "execute_result"
    }
   ],
   "source": [
    "ohlcv_histories, technical_indicators, next_day_open_values, unscaled_y, y_normaliser = \\\n",
    "                    csv_to_dataset('MSFT_daily.csv')\n",
    "ohlcv_histories.shape, next_day_open_values.shape, next_day_open_values.shape"
   ]
  },
  {
   "cell_type": "code",
   "execution_count": 7,
   "metadata": {},
   "outputs": [
    {
     "data": {
      "text/plain": [
       "(4528, 4478, 4528, (5032, 5), (1, 50, 5))"
      ]
     },
     "execution_count": 7,
     "metadata": {},
     "output_type": "execute_result"
    }
   ],
   "source": [
    "from keras.preprocessing.sequence import TimeseriesGenerator\n",
    "history_points = 50\n",
    "\n",
    "tsParams = {'length': history_points, 'batch_size': 1, 'stride': 1, 'sampling_rate': 1}\n",
    "X = datan\n",
    "y = datan[:,0]\n",
    "y = y.reshape(-1,1)\n",
    "nl = X.shape[0]\n",
    "n = int(len(X) * .9)\n",
    "\n",
    "trng    = TimeseriesGenerator(X[:n], y[:n], **tsParams )\n",
    "valg    = TimeseriesGenerator(X[n:], y[n:], **tsParams )\n",
    "technical_indicators = np.array([[0]] * len(trng))\n",
    "n, len(trng),n, datan.shape, trng[0][0].shape"
   ]
  },
  {
   "cell_type": "code",
   "execution_count": 8,
   "metadata": {},
   "outputs": [
    {
     "name": "stdout",
     "output_type": "stream",
     "text": [
      "4483 (4982, 50, 5) (4483, 50, 5) (499, 50, 5)\n"
     ]
    }
   ],
   "source": [
    "test_split = 0.9\n",
    "n = int(ohlcv_histories.shape[0] * test_split)\n",
    "\n",
    "ohlcv_train = ohlcv_histories[:n]\n",
    "tech_ind_train = technical_indicators[:n]\n",
    "y_train = next_day_open_values[:n]\n",
    "\n",
    "ohlcv_test = ohlcv_histories[n:]\n",
    "tech_ind_test = technical_indicators[n:]\n",
    "y_test = next_day_open_values[n:]\n",
    "\n",
    "unscaled_y_test = unscaled_y[n:]\n",
    "\n",
    "print(n, ohlcv_histories.shape, ohlcv_train.shape, ohlcv_test.shape)\n"
   ]
  },
  {
   "cell_type": "code",
   "execution_count": 9,
   "metadata": {},
   "outputs": [
    {
     "data": {
      "text/plain": [
       "((4478, 50, 5), (4478, 1), (4478, 1))"
      ]
     },
     "execution_count": 9,
     "metadata": {},
     "output_type": "execute_result"
    }
   ],
   "source": [
    "xx= np.array([trng[i][0][0] for i in range(len(trng))])\n",
    "technical_indicators = np.array([[0]] * len(xx))\n",
    "\n",
    "yy = np.array([trng[i][1][0] for i in range(len(trng))])\n",
    "xx.shape, technical_indicators.shape, yy.shape"
   ]
  },
  {
   "cell_type": "code",
   "execution_count": 10,
   "metadata": {},
   "outputs": [],
   "source": [
    "lstm_input = Input(shape=(history_points, 5), name='lstm_input')\n",
    "dense_input = Input(shape=(technical_indicators.shape[1],), name='tech_input')\n",
    "\n",
    "# the first branch operates on the first input\n",
    "x = LSTM(50, name='lstm_0')(lstm_input)\n",
    "x = Dropout(0.2, name='lstm_dropout_0')(x)\n",
    "lstm_branch = Model(inputs=lstm_input, outputs=x)\n",
    "\n",
    "# the second branch opreates on the second input\n",
    "y = Dense(20, name='tech_dense_0')(dense_input)\n",
    "y = Activation(\"relu\", name='tech_relu_0')(y)\n",
    "y = Dropout(0.2, name='tech_dropout_0')(y)\n",
    "technical_indicators_branch = Model(inputs=dense_input, outputs=y)\n",
    "\n",
    "# combine the output of the two branches\n",
    "combined = concatenate([lstm_branch.output, technical_indicators_branch.output], name='concatenate')\n",
    "\n",
    "z = Dense(64, activation=\"sigmoid\", name='dense_pooling')(combined)\n",
    "z = Dense(1, activation=\"linear\", name='dense_out')(z)\n",
    "\n",
    "# our model will accept the inputs of the two branches and\n",
    "# then output a single value\n",
    "model = Model(inputs=[lstm_branch.input, technical_indicators_branch.input], outputs=z)\n",
    "#model = Model(inputs=lstm_branch.input, outputs=z)\n",
    "adam = optimizers.Adam(lr=0.0005)\n",
    "model.compile(optimizer=adam, loss='mse')\n"
   ]
  },
  {
   "cell_type": "code",
   "execution_count": 21,
   "metadata": {
    "scrolled": false
   },
   "outputs": [
    {
     "name": "stdout",
     "output_type": "stream",
     "text": [
      "Train on 4030 samples, validate on 448 samples\n",
      "Epoch 1/20\n",
      "4030/4030 [==============================] - 2s 461us/step - loss: 0.0025 - val_loss: 0.0018\n",
      "Epoch 2/20\n",
      "4030/4030 [==============================] - 2s 466us/step - loss: 0.0025 - val_loss: 0.0021\n",
      "Epoch 3/20\n",
      "4030/4030 [==============================] - 2s 472us/step - loss: 0.0025 - val_loss: 0.0013\n",
      "Epoch 4/20\n",
      "4030/4030 [==============================] - 2s 464us/step - loss: 0.0023 - val_loss: 0.0017\n",
      "Epoch 5/20\n",
      "4030/4030 [==============================] - 2s 462us/step - loss: 0.0022 - val_loss: 0.0016\n",
      "Epoch 6/20\n",
      "4030/4030 [==============================] - 2s 464us/step - loss: 0.0023 - val_loss: 0.0033\n",
      "Epoch 7/20\n",
      "4030/4030 [==============================] - 2s 460us/step - loss: 0.0022 - val_loss: 0.0039\n",
      "Epoch 8/20\n",
      "4030/4030 [==============================] - 2s 465us/step - loss: 0.0021 - val_loss: 0.0032\n",
      "Epoch 9/20\n",
      "4030/4030 [==============================] - 2s 464us/step - loss: 0.0021 - val_loss: 8.5903e-04\n",
      "Epoch 10/20\n",
      "4030/4030 [==============================] - 2s 484us/step - loss: 0.0021 - val_loss: 0.0011\n",
      "Epoch 11/20\n",
      "4030/4030 [==============================] - 2s 502us/step - loss: 0.0021 - val_loss: 0.0012\n",
      "Epoch 12/20\n",
      "4030/4030 [==============================] - 2s 476us/step - loss: 0.0020 - val_loss: 0.0010\n",
      "Epoch 13/20\n",
      "4030/4030 [==============================] - 2s 475us/step - loss: 0.0021 - val_loss: 8.8682e-04\n",
      "Epoch 14/20\n",
      "4030/4030 [==============================] - 2s 479us/step - loss: 0.0019 - val_loss: 9.6583e-04\n",
      "Epoch 15/20\n",
      "4030/4030 [==============================] - 2s 488us/step - loss: 0.0019 - val_loss: 9.2260e-04\n",
      "Epoch 16/20\n",
      "4030/4030 [==============================] - 2s 499us/step - loss: 0.0020 - val_loss: 0.0030\n",
      "Epoch 17/20\n",
      "4030/4030 [==============================] - 2s 472us/step - loss: 0.0018 - val_loss: 0.0016\n",
      "Epoch 18/20\n",
      "4030/4030 [==============================] - 2s 470us/step - loss: 0.0018 - val_loss: 0.0010\n",
      "Epoch 19/20\n",
      "4030/4030 [==============================] - 2s 469us/step - loss: 0.0019 - val_loss: 9.3636e-04\n",
      "Epoch 20/20\n",
      "4030/4030 [==============================] - 2s 468us/step - loss: 0.0019 - val_loss: 9.7590e-04\n"
     ]
    }
   ],
   "source": [
    "model.fit([xx[:n], technical_indicators[:n]], y=yy[:n], epochs=20, shuffle=True, validation_split=0.1)\n",
    "\n",
    "# evaluation\n",
    "'''\n",
    "y_test_predicted = model.predict([ohlcv_test, tech_ind_test])\n",
    "y_test_predicted = y_normaliser.inverse_transform(y_test_predicted)\n",
    "y_predicted = model.predict([ohlcv_histories, technical_indicators])\n",
    "y_predicted = y_normaliser.inverse_transform(y_predicted)\n",
    "assert unscaled_y_test.shape == y_test_predicted.shape\n",
    "real_mse = np.mean(np.square(unscaled_y_test - y_test_predicted))\n",
    "scaled_mse = real_mse / (np.max(unscaled_y_test) - np.min(unscaled_y_test)) * 100\n",
    "print(scaled_mse)\n",
    "''';"
   ]
  },
  {
   "cell_type": "code",
   "execution_count": 22,
   "metadata": {},
   "outputs": [
    {
     "data": {
      "text/plain": [
       "[<matplotlib.lines.Line2D at 0x7fca30f65f90>]"
      ]
     },
     "execution_count": 22,
     "metadata": {},
     "output_type": "execute_result"
    },
    {
     "data": {
      "image/png": "[encoded data removed]",
      "text/plain": [
       "<Figure size 1152x360 with 1 Axes>"
      ]
     },
     "metadata": {
      "needs_background": "light"
     },
     "output_type": "display_data"
    }
   ],
   "source": [
    "pn=-200\n",
    "xt= xx[pn:]\n",
    "technical_indicators_t = np.array([[0]] * len(xt))\n",
    "\n",
    "yt = yy[pn:]\n",
    "xt.shape, technical_indicators_t.shape, yt.shape\n",
    "yh = model.predict([xt, technical_indicators_t])\n",
    "plt.plot(yt)\n",
    "plt.plot(yh)"
   ]
  },
  {
   "cell_type": "code",
   "execution_count": null,
   "metadata": {},
   "outputs": [],
   "source": [
    "lstm_input = Input(shape=(history_points, 5), name='lstm_input')\n",
    "x = LSTM(50, name='lstm_0')(lstm_input)\n",
    "x = Dropout(0.2, name='lstm_dropout_0')(x)\n",
    "x = Dense(64, name='dense_0')(x)\n",
    "x = Activation('sigmoid', name='sigmoid_0')(x)\n",
    "x = Dense(1, name='dense_1')(x)\n",
    "\n",
    "output = Activation('linear', name='linear_output')(x)\n",
    "\n",
    "model = Model(inputs=lstm_input, outputs=output)\n",
    "adam = optimizers.Adam(lr=0.0005)\n",
    "model.compile(optimizer=adam, loss='mse')\n",
    "#model.fit(x=ohlcv_train, y=y_train, batch_size=32, epochs=50, shuffle=True, validation_split=0.1)\n",
    "model.fit(xx[:n], y=yy[:n], epochs=4, shuffle=True, validation_split=0.1)\n"
   ]
  },
  {
   "cell_type": "code",
   "execution_count": null,
   "metadata": {},
   "outputs": [],
   "source": [
    "model.fit(xx[:n], y=yy[:n], epochs=10, shuffle=True, validation_split=0.1)"
   ]
  },
  {
   "cell_type": "code",
   "execution_count": null,
   "metadata": {},
   "outputs": [],
   "source": [
    "model.fit(trng, verbose=1, epochs=1, validation_data=None,steps_per_epoch=200,\n",
    "                   validation_steps=50)\n",
    "\n",
    "xt= xx[n:]\n",
    "\n",
    "yt = yy[n:]\n",
    "xt.shape, technical_indicators_t.shape, yt.shape\n",
    "yh = model.predict(xt)\n",
    "plt.plot(yt)\n",
    "plt.plot(yh)"
   ]
  },
  {
   "cell_type": "code",
   "execution_count": null,
   "metadata": {},
   "outputs": [],
   "source": [
    "yy.shape, xx.shape"
   ]
  },
  {
   "cell_type": "code",
   "execution_count": null,
   "metadata": {},
   "outputs": [],
   "source": [
    "from keras.layers import RepeatVector, TimeDistributed\n",
    "model1=None      \n",
    "\n",
    "#sensN = len(self.train_transformed[0].columns)  # number of sensors (eliminating the two time ones)\n",
    "#outN = len(self.num_id_list) # number of output sensors; the non-categorical ones        \n",
    "\n",
    "lookBack   = tsParams['length']\n",
    "nFeatures  = xx.shape[2]  # Number of features \n",
    "lstm_OPDim = yy.shape[1]  # This is usually all sensors except categorical that to train LSTM on\n",
    "lstm_IPDim = 256\n",
    "drop       = 0.3\n",
    "optimizer  = optimizers.Adam(lr=0.0005)\n",
    "loss       = 'mse'\n",
    "k_rrizer   = None\n",
    "r_rrizer   = None\n",
    "\n",
    "input_layer  = Input(shape=(lookBack, nFeatures), dtype='float32', name='input')\n",
    "memory_layer = LSTM( lstm_IPDim, return_sequences=True, name=\"memory1\")(input_layer)\n",
    "memory_layer = LSTM (int(lstm_IPDim/2), return_sequences=False, name=\"memory2\")(memory_layer)\n",
    "repeated = RepeatVector(lookBack)(memory_layer)\n",
    "memory_layer = LSTM (int(lstm_IPDim/2), return_sequences=True, name=\"first1out\")(repeated)\n",
    "memory_layer = LSTM (lstm_IPDim,  return_sequences=True, name=\"first2out\")(memory_layer)\n",
    "decoded_inputs = TimeDistributed(Dense(units=lstm_OPDim, activation='linear'))( memory_layer)\n",
    "\n",
    "#  Try spatial dropout?\n",
    "dropout_input = Dropout(drop)(input_layer)\n",
    "concat_layer = concatenate([dropout_input, decoded_inputs])\n",
    "\n",
    "#memory_layer = LSTM (units=self.lstm_dim, return_sequences=False)(concat_layer)\n",
    "memory_layer = LSTM (units=lstm_IPDim, \n",
    "                         kernel_regularizer = k_rrizer, \n",
    "                         recurrent_regularizer = r_rrizer, \n",
    "                         return_sequences=False)(concat_layer)\n",
    "preds = Dense(units=lstm_OPDim, activation='linear')(memory_layer)\n",
    "\n",
    "model1 = Model(input_layer, preds)\n",
    "model1.compile(optimizer = optimizer, loss= loss)             \n",
    "\n",
    "print(model1.summary())\n"
   ]
  },
  {
   "cell_type": "code",
   "execution_count": null,
   "metadata": {},
   "outputs": [],
   "source": [
    "model1.fit(trng, verbose=1, epochs=1, validation_data=None,steps_per_epoch=200,\n",
    "                   validation_steps=50)\n",
    "\n",
    "xt= xx[n:]\n",
    "\n",
    "yt = yy[n:]\n",
    "yh = model1.predict(xt)\n",
    "plt.plot(yt)\n",
    "plt.plot(yh)"
   ]
  },
  {
   "cell_type": "code",
   "execution_count": null,
   "metadata": {},
   "outputs": [],
   "source": []
  }
 ],
 "metadata": {
  "kernelspec": {
   "display_name": "Python 3",
   "language": "python",
   "name": "python3"
  },
  "language_info": {
   "codemirror_mode": {
    "name": "ipython",
    "version": 3
   },
   "file_extension": ".py",
   "mimetype": "text/x-python",
   "name": "python",
   "nbconvert_exporter": "python",
   "pygments_lexer": "ipython3",
   "version": "3.7.4"
  }
 },
 "nbformat": 4,
 "nbformat_minor": 2
}
