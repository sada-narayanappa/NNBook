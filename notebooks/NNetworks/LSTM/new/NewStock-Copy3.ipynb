{
 "cells": [
  {
   "cell_type": "code",
   "execution_count": 8,
   "metadata": {},
   "outputs": [
    {
     "name": "stdout",
     "output_type": "stream",
     "text": [
      "The autoreload extension is already loaded. To reload it, use:\n",
      "  %reload_ext autoreload\n"
     ]
    }
   ],
   "source": [
    "%load_ext autoreload\n",
    "%autoreload 2\n",
    "import matplotlib as mpl\n",
    "import matplotlib.pyplot as plt\n",
    "%matplotlib inline  \n",
    "\n",
    "import pandas as pd\n",
    "from sklearn import preprocessing\n",
    "import numpy as np\n",
    "mpl.rcParams['figure.figsize'] = (16, 5)\n",
    "mpl.rcParams['axes.grid'] = False\n",
    "\n",
    "import tensorflow as tf\n",
    "tf.random.set_seed(13)\n",
    "pd.options.display.max_rows = 8\n",
    "\n",
    "\n",
    "import keras\n",
    "import tensorflow as tf\n",
    "from keras.models import Model\n",
    "from keras.layers import Dense, Dropout, LSTM, Input, Activation, concatenate\n",
    "from keras import optimizers\n",
    "import numpy as np\n",
    "np.random.seed(4)\n",
    "#from tensorflow import set_random_seed\n",
    "tf.random.set_seed(4)\n",
    "#from util import csv_to_dataset, history_points\n",
    "\n",
    "def plotxx(xx, yy, model, pn=-200):\n",
    "    xt= xx[pn:]\n",
    "    technical_indicators_t = np.array([[0]] * len(xt))\n",
    "\n",
    "    yt = yy[pn:]\n",
    "    xt.shape, technical_indicators_t.shape, yt.shape\n",
    "    yh = model.predict([xt, technical_indicators_t])\n",
    "    \n",
    "    plt.plot(yt, marker='o', label=\"orginal\")\n",
    "    plt.plot(yh, marker='x', label=\"Predicted\")\n",
    "\n",
    "    plt.legend()\n"
   ]
  },
  {
   "cell_type": "code",
   "execution_count": 5,
   "metadata": {},
   "outputs": [
    {
     "data": {
      "text/plain": [
       "(5032, 6)"
      ]
     },
     "execution_count": 5,
     "metadata": {},
     "output_type": "execute_result"
    }
   ],
   "source": [
    "##SADA\n",
    "\n",
    "csv_path=\"MSFT_daily.csv\"\n",
    "data = pd.read_csv(csv_path)\n",
    "#data = data.drop(0, axis=0)\n",
    "data.columns=\"date open high low close volume\".split()\n",
    "col='open'\n",
    "data[f'{col}_diff1'] = data[col] - data[col].shift(1)\n",
    "data.dropna(inplace=True)\n",
    "data\n",
    "\n",
    "scaler = preprocessing.StandardScaler()\n",
    "datan  = scaler.fit_transform(data[data.columns[1:]])\n",
    "scaler = preprocessing.MinMaxScaler()\n",
    "datan  = scaler.fit_transform(data[data.columns[1:]])\n",
    "\n",
    "datan.shape"
   ]
  },
  {
   "cell_type": "code",
   "execution_count": 6,
   "metadata": {},
   "outputs": [
    {
     "data": {
      "text/plain": [
       "(4528, 4478, 4528, (5032, 6), (1, 50, 6))"
      ]
     },
     "execution_count": 6,
     "metadata": {},
     "output_type": "execute_result"
    }
   ],
   "source": [
    "from keras.preprocessing.sequence import TimeseriesGenerator\n",
    "history_points = 50\n",
    "\n",
    "tsParams = {'length': history_points, 'batch_size': 1, 'stride': 1, 'sampling_rate': 1}\n",
    "X = datan\n",
    "y = datan[:,0]\n",
    "y = y.reshape(-1,1)\n",
    "nl = X.shape[0]\n",
    "n = int(len(X) * .9)\n",
    "\n",
    "trng    = TimeseriesGenerator(X[:n], y[:n], **tsParams )\n",
    "valg    = TimeseriesGenerator(X[n:], y[n:], **tsParams )\n",
    "technical_indicators = np.array([[0]] * len(trng))\n",
    "n, len(trng),n, datan.shape, trng[0][0].shape"
   ]
  },
  {
   "cell_type": "code",
   "execution_count": 7,
   "metadata": {},
   "outputs": [
    {
     "data": {
      "text/plain": [
       "((4478, 50, 6), (4478, 1), (4478, 1))"
      ]
     },
     "execution_count": 7,
     "metadata": {},
     "output_type": "execute_result"
    }
   ],
   "source": [
    "xx= np.array([trng[i][0][0] for i in range(len(trng))])\n",
    "technical_indicators = np.array([[0]] * len(xx))\n",
    "\n",
    "yy = np.array([trng[i][1][0] for i in range(len(trng))])\n",
    "xx.shape, technical_indicators.shape, yy.shape"
   ]
  },
  {
   "cell_type": "code",
   "execution_count": null,
   "metadata": {},
   "outputs": [],
   "source": [
    "lstm_input = Input(shape=(history_points, 5), name='lstm_input')\n",
    "x = LSTM(50, name='lstm_0')(lstm_input)\n",
    "x = Dropout(0.2, name='lstm_dropout_0')(x)\n",
    "x = Dense(64, name='dense_0')(x)\n",
    "x = Activation('sigmoid', name='sigmoid_0')(x)\n",
    "x = Dense(1, name='dense_1')(x)\n",
    "\n",
    "output = Activation('linear', name='linear_output')(x)\n",
    "\n",
    "model = Model(inputs=lstm_input, outputs=output)\n",
    "adam = optimizers.Adam(lr=0.0005)\n",
    "model.compile(optimizer=adam, loss='mse')\n",
    "#model.fit(x=ohlcv_train, y=y_train, batch_size=32, epochs=50, shuffle=True, validation_split=0.1)\n",
    "model.fit(xx[:n], y=yy[:n], epochs=4, shuffle=True, validation_split=0.1)\n"
   ]
  },
  {
   "cell_type": "code",
   "execution_count": null,
   "metadata": {},
   "outputs": [],
   "source": [
    "model.fit(xx[:n], y=yy[:n], epochs=10, shuffle=True, validation_split=0.1)"
   ]
  },
  {
   "cell_type": "code",
   "execution_count": null,
   "metadata": {},
   "outputs": [],
   "source": [
    "model.fit(trng, verbose=1, epochs=1, validation_data=None,steps_per_epoch=200,\n",
    "                   validation_steps=50)\n",
    "\n",
    "xt= xx[n:]\n",
    "\n",
    "yt = yy[n:]\n",
    "xt.shape, technical_indicators_t.shape, yt.shape\n",
    "yh = model.predict(xt)\n",
    "plt.plot(yt)\n",
    "plt.plot(yh)"
   ]
  },
  {
   "cell_type": "code",
   "execution_count": null,
   "metadata": {},
   "outputs": [],
   "source": [
    "yy.shape, xx.shape"
   ]
  },
  {
   "cell_type": "code",
   "execution_count": 25,
   "metadata": {},
   "outputs": [
    {
     "name": "stdout",
     "output_type": "stream",
     "text": [
      "Model: \"model_4\"\n",
      "__________________________________________________________________________________________________\n",
      "Layer (type)                    Output Shape         Param #     Connected to                     \n",
      "==================================================================================================\n",
      "input (InputLayer)              (None, 50, 5)        0                                            \n",
      "__________________________________________________________________________________________________\n",
      "memory1 (LSTM)                  (None, 50, 256)      268288      input[0][0]                      \n",
      "__________________________________________________________________________________________________\n",
      "memory2 (LSTM)                  (None, 128)          197120      memory1[0][0]                    \n",
      "__________________________________________________________________________________________________\n",
      "repeat_vector_1 (RepeatVector)  (None, 50, 128)      0           memory2[0][0]                    \n",
      "__________________________________________________________________________________________________\n",
      "first1out (LSTM)                (None, 50, 128)      131584      repeat_vector_1[0][0]            \n",
      "__________________________________________________________________________________________________\n",
      "first2out (LSTM)                (None, 50, 256)      394240      first1out[0][0]                  \n",
      "__________________________________________________________________________________________________\n",
      "dropout_1 (Dropout)             (None, 50, 5)        0           input[0][0]                      \n",
      "__________________________________________________________________________________________________\n",
      "time_distributed_1 (TimeDistrib (None, 50, 1)        257         first2out[0][0]                  \n",
      "__________________________________________________________________________________________________\n",
      "concatenate_1 (Concatenate)     (None, 50, 6)        0           dropout_1[0][0]                  \n",
      "                                                                 time_distributed_1[0][0]         \n",
      "__________________________________________________________________________________________________\n",
      "lstm_1 (LSTM)                   (None, 256)          269312      concatenate_1[0][0]              \n",
      "__________________________________________________________________________________________________\n",
      "dense_2 (Dense)                 (None, 1)            257         lstm_1[0][0]                     \n",
      "==================================================================================================\n",
      "Total params: 1,261,058\n",
      "Trainable params: 1,261,058\n",
      "Non-trainable params: 0\n",
      "__________________________________________________________________________________________________\n",
      "None\n"
     ]
    }
   ],
   "source": [
    "from keras.layers import RepeatVector, TimeDistributed\n",
    "model1=None      \n",
    "\n",
    "#sensN = len(self.train_transformed[0].columns)  # number of sensors (eliminating the two time ones)\n",
    "#outN = len(self.num_id_list) # number of output sensors; the non-categorical ones        \n",
    "\n",
    "lookBack   = tsParams['length']\n",
    "nFeatures  = xx.shape[2]  # Number of features \n",
    "lstm_OPDim = yy.shape[1]  # This is usually all sensors except categorical that to train LSTM on\n",
    "lstm_IPDim = 256\n",
    "drop       = 0.3\n",
    "optimizer  = optimizers.Adam(lr=0.0005)\n",
    "loss       = 'mse'\n",
    "k_rrizer   = None\n",
    "r_rrizer   = None\n",
    "\n",
    "input_layer  = Input(shape=(lookBack, nFeatures), dtype='float32', name='input')\n",
    "memory_layer = LSTM( lstm_IPDim, return_sequences=True, name=\"memory1\")(input_layer)\n",
    "memory_layer = LSTM (int(lstm_IPDim/2), return_sequences=False, name=\"memory2\")(memory_layer)\n",
    "repeated = RepeatVector(lookBack)(memory_layer)\n",
    "memory_layer = LSTM (int(lstm_IPDim/2), return_sequences=True, name=\"first1out\")(repeated)\n",
    "memory_layer = LSTM (lstm_IPDim,  return_sequences=True, name=\"first2out\")(memory_layer)\n",
    "decoded_inputs = TimeDistributed(Dense(units=lstm_OPDim, activation='linear'))( memory_layer)\n",
    "\n",
    "#  Try spatial dropout?\n",
    "dropout_input = Dropout(drop)(input_layer)\n",
    "concat_layer = concatenate([dropout_input, decoded_inputs])\n",
    "\n",
    "#memory_layer = LSTM (units=self.lstm_dim, return_sequences=False)(concat_layer)\n",
    "memory_layer = LSTM (units=lstm_IPDim, \n",
    "                         kernel_regularizer = k_rrizer, \n",
    "                         recurrent_regularizer = r_rrizer, \n",
    "                         return_sequences=False)(concat_layer)\n",
    "preds = Dense(units=lstm_OPDim, activation='linear')(memory_layer)\n",
    "\n",
    "model1 = Model(input_layer, preds)\n",
    "model1.compile(optimizer = optimizer, loss= loss)             \n",
    "\n",
    "print(model1.summary())\n"
   ]
  },
  {
   "cell_type": "code",
   "execution_count": 32,
   "metadata": {},
   "outputs": [
    {
     "name": "stdout",
     "output_type": "stream",
     "text": [
      "Epoch 1/1\n",
      "200/200 [==============================] - 17s 86ms/step - loss: 3.4082e-04\n"
     ]
    },
    {
     "data": {
      "image/png": "[encoded data removed]",
      "text/plain": [
       "<Figure size 1152x360 with 1 Axes>"
      ]
     },
     "metadata": {
      "needs_background": "light"
     },
     "output_type": "display_data"
    }
   ],
   "source": [
    "for i in range(1):\n",
    "    model1.fit(trng, verbose=1, epochs=1, validation_data=None,steps_per_epoch=200,\n",
    "                   validation_steps=50)\n",
    "\n",
    "    plotxx(xx,yy,-50)\n"
   ]
  },
  {
   "cell_type": "code",
   "execution_count": null,
   "metadata": {},
   "outputs": [],
   "source": []
  }
 ],
 "metadata": {
  "kernelspec": {
   "display_name": "Python 3",
   "language": "python",
   "name": "python3"
  },
  "language_info": {
   "codemirror_mode": {
    "name": "ipython",
    "version": 3
   },
   "file_extension": ".py",
   "mimetype": "text/x-python",
   "name": "python",
   "nbconvert_exporter": "python",
   "pygments_lexer": "ipython3",
   "version": "3.7.4"
  }
 },
 "nbformat": 4,
 "nbformat_minor": 2
}
