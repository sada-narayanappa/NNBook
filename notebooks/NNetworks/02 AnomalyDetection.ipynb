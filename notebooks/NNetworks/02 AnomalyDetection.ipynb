{
 "cells": [
  {
   "cell_type": "markdown",
   "metadata": {},
   "source": [
    "# References\n",
    "\n",
    "1. Understanding LSTM [http://colah.github.io/posts/2015-08-Understanding-LSTMs/]\n",
    "1. AutoEncoders [https://towardsdatascience.com/lstm-autoencoder-for-extreme-rare-event-classification-in-keras-ce209a224cfb]\n",
    "2. LSTM Autoencoders: [https://towardsdatascience.com/step-by-step-understanding-lstm-autoencoder-layers-ffab055b6352]\n",
    "3. https://machinelearningmastery.com/lstm-autoencoders/\n",
    "4.\n",
    "\n"
   ]
  },
  {
   "cell_type": "code",
   "execution_count": null,
   "metadata": {},
   "outputs": [],
   "source": []
  }
 ],
 "metadata": {
  "kernelspec": {
   "display_name": "Python 3",
   "language": "python",
   "name": "python3"
  },
  "language_info": {
   "codemirror_mode": {
    "name": "ipython",
    "version": 3
   },
   "file_extension": ".py",
   "mimetype": "text/x-python",
   "name": "python",
   "nbconvert_exporter": "python",
   "pygments_lexer": "ipython3",
   "version": "3.7.4"
  }
 },
 "nbformat": 4,
 "nbformat_minor": 2
}
