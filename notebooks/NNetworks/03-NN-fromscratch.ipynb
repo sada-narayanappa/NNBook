{
 "cells": [
  {
   "cell_type": "code",
   "execution_count": 1,
   "metadata": {},
   "outputs": [
    {
     "data": {
      "text/html": [
       "\n",
       "<textarea rows=5 id=nav_head_content style=\"width:100%;display:none;\">\n",
       "<style>\n",
       "a.bh,  a.bh:visited, a.bh:link, a.bh:active {\n",
       "  ttext-decoration: none; \n",
       "  color: black;\n",
       "  font-family: 'Roboto','Heebo',Arial,sans-serif;\n",
       "  font-size: 3em\n",
       "}\n",
       "</style>\n",
       "<!--\n",
       "<div id='HTMLTopBar' style=\"    \n",
       "    z-index: 50;\n",
       "    align-items: stretch;\n",
       "    width:100%\">\n",
       "    <div  style=\"\n",
       "        text-color: black;\n",
       "        background-color: #fefefe;\n",
       "        bborder-bottom: 1px dotted gray;\n",
       "        padding-left: 2px;\n",
       "        box-shadow: 5px 1px #ccc;\n",
       "        height: 40px; left: 0; \n",
       "        padding: 14px;\n",
       "        \"\n",
       "    >\n",
       "    <a class=bh1 href=\"#\" onclick=\"$('#maintoolbar').toggle();\">X</a>\n",
       "</div>\n",
       "-->\n",
       "</textarea>\n",
       "\n",
       "<script>\n",
       "if ($('#nav_head').length < 1) {\n",
       "    $('#notebook-container').prepend('<div id=\"nav_head\" style=\"width:100%;\">.</div>')\n",
       "    console.log(\"Added a div\")\n",
       "} else{\n",
       "    console.log(\"Already Added\")    \n",
       "}\n",
       "\n",
       "$('#nav_head').html($('#nav_head_content').val())\n",
       "\n",
       "$('.nbp-app-bar').toggle()\n",
       "</script>\n"
      ],
      "text/plain": [
       "<IPython.core.display.HTML object>"
      ]
     },
     "metadata": {},
     "output_type": "display_data"
    },
    {
     "data": {
      "text/html": [
       "<style>\n",
       "@import url('https://fonts.googleapis.com/css2?family=Roboto&display=swap');\n",
       "</style>\n",
       "<style>\n",
       "<link href=\"https://fonts.googleapis.com/css2?family=Roboto&display=swap\" rel=\"stylesheet\">\n",
       "\n",
       "body  p ol li {\n",
       "    font-family: \"Roboto\",  \"Lucida Grande\", \"Lucida Sans Unicode\";\n",
       "    font-size: 14px;\n",
       "    background: #fff\n",
       "}\n",
       "\n",
       "h1, h2, h3{\n",
       "    font-family: 'Roboto', sans-serif;\n",
       "}\n",
       "div#notebook_panel div#notebook{\n",
       "    background: #ffffff\n",
       "}\n",
       "div#notebook-container{\n",
       "    box-shadow: 0px;\n",
       "    padding: 0px;\n",
       "    border-left: .05em dotted gray;\n",
       "    -webkit-box-shadow: 0px;\n",
       "    box-shadow: none;\n",
       "}\n",
       "</style>\n"
      ],
      "text/plain": [
       "<IPython.core.display.HTML object>"
      ]
     },
     "metadata": {},
     "output_type": "display_data"
    },
    {
     "data": {
      "text/html": [
       "<style>\n",
       ".container { width: 100% !important; }\n",
       "    div.cell{\n",
       "        width:100%;\n",
       "        margin-left:0%;\n",
       "        margin-right:auto;\n",
       "}\n",
       ".CodeMirror {\n",
       "    font-family: monospace;\n",
       "}\n",
       "div.input_area {\n",
       "    border: 0px;\n",
       "}\n",
       "div.cell.selected{\n",
       "  border: '0px';\n",
       "}\n",
       ".cell.selected{\n",
       "  border: '0px';\n",
       "}\n",
       "div#notebook{\n",
       "    padding-top: 0px;\n",
       "}\n",
       "div.prompt_container {\n",
       "    display: block; \n",
       "    background: #f7f7f7;\n",
       "}\n",
       "div.prompt{\n",
       "    min-width:0px;\n",
       "    display: grid;\n",
       "}\n",
       "div.cell{\n",
       "    padding-bottom: 5px;\n",
       "    padding-left: 0px;\n",
       "}\n",
       "\n",
       "a.bh,  a.bh:visited, a.bh:link, a.bh:active {\n",
       "  text-decoration: none; \n",
       "  color:white;\n",
       "  font-family: 'Roboto','Heebo',Arial,sans-serif;\n",
       "  font-size:1em\n",
       "}\n",
       "a.bh:hover {\n",
       "  color: #ffccdd;\n",
       "}\n",
       "\n",
       "a.bh1,  a.bh1:visited, a.bh1:link, a.bh1:active {\n",
       "  text-decoration: none; \n",
       "  color: rgba(0, 0, 0, 0.87);\n",
       "  font-family: 'Roboto','Heebo',Arial,sans-serif;\n",
       "  padding-right: 30px;\n",
       "  font-size:1.1em\n",
       "}\n",
       "a.bh1:hover {\n",
       "  color: rgba(0, 0, 0, 0.57);\n",
       "}\n",
       "    \n",
       "#toc-wrapper {\n",
       "   font-family: 'Roboto','Heebo',Arial,sans-serif;\n",
       "    border: 0px dotted gray;\n",
       "    padding: 10px;\n",
       "    line-height: 1.8em;\n",
       "}    \n",
       "</style>\n",
       "<script>\n",
       "l=\"https://www.ancient-symbols.com/images/wp-image-library/fullsize/infinity.jpg\"\n",
       "l=\"imgs/logo.png\"\n",
       "l=\"\"\n",
       "$('#ipython_notebook').html(`<img src=\"${l}\">`)\n",
       "\n",
       "</script>\n"
      ],
      "text/plain": [
       "<IPython.core.display.HTML object>"
      ]
     },
     "metadata": {},
     "output_type": "display_data"
    }
   ],
   "source": [
    "%reload_ext autoreload\n",
    "import colabexts\n",
    "from colabexts.jcommon import *\n",
    "\n",
    "jpath=os.path.dirname(colabexts.__file__)\n",
    "jcom = f'{jpath}/jcommon.ipynb'\n",
    "%run $jcom"
   ]
  },
  {
   "cell_type": "markdown",
   "metadata": {},
   "source": [
    "# From Scratch"
   ]
  },
  {
   "cell_type": "code",
   "execution_count": 66,
   "metadata": {},
   "outputs": [
    {
     "name": "stdout",
     "output_type": "stream",
     "text": [
      "Start: Cost:inf [0.93674874 0.36772907] 0\n",
      "000. Cost:1.751 [[0.84591026 0.27689059]\n",
      " [0.76082545 0.19180577]] -0.042542408862974675\n",
      "001. Cost:3.319 [[0.74900299 0.21406883]\n",
      " [0.56919565 0.08155928]] -0.1136160385046125\n",
      "002. Cost:2.689 [[0.65589012 0.16930452]\n",
      " [0.38735119 0.01275884]] -0.16999989131967008\n",
      "003. Cost:2.208 [[ 0.57030902  0.13836567]\n",
      " [ 0.22425835 -0.02458857]] -0.2119600445559798\n",
      "004. Cost:1.863 [[ 0.49732757  0.11604384]\n",
      " [ 0.09143876 -0.04239355]] -0.2396206919443316\n",
      "005. Cost:1.65 [[ 0.44041631  0.09857813]\n",
      " [-0.00388149 -0.04920683]] -0.2534989724709614\n",
      "006. Cost:1.542 [[ 0.39839569  0.08362697]\n",
      " [-0.06510806 -0.05035596]] -0.256200931801772\n",
      "007. Cost:1.495 [[ 0.36710115  0.06984624]\n",
      " [-0.10203318 -0.04890685]] -0.25140129787685195\n",
      "008. Cost:1.473 [[ 0.34260814  0.05653672]\n",
      " [-0.12364636 -0.0464589 ]] -0.24208265263930326\n",
      "009. Cost:1.461 [[ 0.32225387  0.04336963]\n",
      " [-0.13599517 -0.0437669 ]] -0.23015038241585872\n"
     ]
    }
   ],
   "source": [
    "def sigmoid (z): \n",
    "    return  1 / (1 + np.exp(-z))\n",
    "\n",
    "def Xentropy(Y, A):\n",
    "    m = Y.shape[-1]\n",
    "    cost = (-1 / m) * np.sum(Y * np.log(A) + (1 - Y) * (np.log(1 - A)))\n",
    "    return  cost\n",
    "\n",
    "def forward(w, b, X, Y, activation=sigmoid):\n",
    "    m = X.shape[1]\n",
    "    \n",
    "    A = activation(np.dot(w.T, X) + b) \n",
    "    cost = Xentropy(Y, A)\n",
    "    return cost, A\n",
    "\n",
    "def backward(A, X, Y):\n",
    "    m = X.shape[1]\n",
    "    dw = (1 / m) * np.dot(X, (A - Y).T)\n",
    "    db = (1 / m) * np.sum(A - Y)\n",
    "\n",
    "    return dw, db\n",
    "\n",
    "def optim(w, b, X, Y, lr=0.1):\n",
    "    costs = []\n",
    "    \n",
    "    cost, A = forward(w, b, X, Y)\n",
    "    dw, db  = backward(A, X, Y)\n",
    "\n",
    "    w = w - lr * dw\n",
    "    b = b - lr * db    \n",
    "    \n",
    "    return w, b, cost\n",
    "\n",
    "def init(dim):\n",
    "    w = np.random.rand(dim)\n",
    "    b = 0\n",
    "    return w, b\n",
    "\n",
    "w, b = init(2)\n",
    "X, Y = np.array([[1,2], [3,4]]), np.array([[1, 0]])\n",
    "\n",
    "cost=np.inf\n",
    "print ( f\"Start: Cost:{cost:.4} {w} {b}\")\n",
    "for i in range(10):\n",
    "    w, b, cost = optim(w,b, X,Y)\n",
    "    print ( f\"{i:03}. Cost:{cost:.4} {w} {b}\")\n"
   ]
  },
  {
   "cell_type": "code",
   "execution_count": null,
   "metadata": {},
   "outputs": [],
   "source": [
    "from sympy import * \n",
    "\n",
    "x, y, i = symbols(\"x y i\")\n",
    "e1 = 3 * x ** 2 + y**(i)\n",
    "e2 = (1/(1+exp(-i)) )\n",
    "e1, e2\n",
    "e2"
   ]
  },
  {
   "cell_type": "code",
   "execution_count": null,
   "metadata": {},
   "outputs": [],
   "source": [
    "z='$3 x^{2} + y^{i}$'\n",
    "f=latex(expr)"
   ]
  },
  {
   "cell_type": "markdown",
   "metadata": {},
   "source": [
    "z value is {{ z }} ==  {{z}}\n",
    "\n",
    "$3 x^{2} + y^{i}$\n",
    "\n",
    "OK"
   ]
  },
  {
   "cell_type": "code",
   "execution_count": null,
   "metadata": {},
   "outputs": [],
   "source": [
    "diff(e2)"
   ]
  },
  {
   "cell_type": "markdown",
   "metadata": {},
   "source": [
    "# Jacobian"
   ]
  },
  {
   "cell_type": "code",
   "execution_count": 20,
   "metadata": {},
   "outputs": [
    {
     "name": "stdout",
     "output_type": "stream",
     "text": [
      "2.4.3 2.4.0\n"
     ]
    },
    {
     "data": {
      "text/plain": [
       "TensorShape([7, 2])"
      ]
     },
     "execution_count": 20,
     "metadata": {},
     "output_type": "execute_result"
    }
   ],
   "source": [
    "import numpy as np\n",
    "import tensorflow as tf\n",
    "#from tensorflow.keras.models import Sequential\n",
    "#from tensorflow.keras.layers import Dense\n",
    "\n",
    "print(tf.__version__, tf.keras.__version__)\n",
    "\n",
    "tf.random.set_seed(0)\n",
    "x = tf.random.normal([7, 3])\n",
    "layer = tf.keras.layers.Dense(2, activation=tf.nn.relu, input_shape=(7,3,1))\n",
    "y = layer(x)\n",
    "\n",
    "# ~~~ Set custom weights\n",
    "wts0=( np.array([[0.5, 0.1], [0.1, 0.5], [0, 0]]),  np.array([0,0]) )\n",
    "layer.set_weights(wts0)\n",
    "\n",
    "with tf.GradientTape(persistent=True) as tape:\n",
    "    y = layer(x)\n",
    "\n",
    "y.shape"
   ]
  },
  {
   "cell_type": "code",
   "execution_count": 21,
   "metadata": {},
   "outputs": [
    {
     "data": {
      "text/plain": [
       "<tf.Tensor: shape=(7, 2), dtype=float32, numpy=\n",
       "array([[0.13514608, 0.6289093 ],\n",
       "       [0.19590005, 0.9297324 ],\n",
       "       [0.        , 0.        ],\n",
       "       [0.57275546, 0.37099153],\n",
       "       [1.1100389 , 0.7828406 ],\n",
       "       [0.        , 0.        ],\n",
       "       [0.16187313, 0.22445773]], dtype=float32)>"
      ]
     },
     "execution_count": 21,
     "metadata": {},
     "output_type": "execute_result"
    }
   ],
   "source": [
    "y\n"
   ]
  },
  {
   "cell_type": "code",
   "execution_count": 22,
   "metadata": {},
   "outputs": [
    {
     "data": {
      "text/plain": [
       "<tf.Tensor: shape=(7, 3), dtype=float32, numpy=\n",
       "array([[ 0.01950879,  1.2539169 ,  0.6854247 ],\n",
       "       [ 0.0207366 ,  1.8553175 , -0.8524053 ],\n",
       "       [ 0.01949384, -1.6901307 ,  2.0456352 ],\n",
       "       [ 1.0386608 ,  0.5342509 ,  0.3535879 ],\n",
       "       [ 1.9863974 ,  1.1684017 ,  0.4402932 ],\n",
       "       [-1.6585735 , -1.1999398 ,  1.3715065 ],\n",
       "       [ 0.24371162,  0.40017313, -0.73295605]], dtype=float32)>"
      ]
     },
     "execution_count": 22,
     "metadata": {},
     "output_type": "execute_result"
    }
   ],
   "source": [
    "x"
   ]
  },
  {
   "cell_type": "code",
   "execution_count": 11,
   "metadata": {},
   "outputs": [
    {
     "data": {
      "text/plain": [
       "[array([[-0.38111752,  0.865276  ],\n",
       "        [-0.8746438 , -0.797227  ],\n",
       "        [-0.00296402, -0.6831708 ]], dtype=float32),\n",
       " array([0., 0.], dtype=float32)]"
      ]
     },
     "execution_count": 11,
     "metadata": {},
     "output_type": "execute_result"
    }
   ],
   "source": [
    "layer.get_weights()"
   ]
  },
  {
   "cell_type": "markdown",
   "metadata": {},
   "source": [
    "# Jacobian"
   ]
  },
  {
   "cell_type": "code",
   "execution_count": 73,
   "metadata": {},
   "outputs": [
    {
     "name": "stdout",
     "output_type": "stream",
     "text": [
      "2.4.3 2.4.0\n"
     ]
    },
    {
     "data": {
      "text/plain": [
       "(TensorShape([2, 2]), TensorShape([2, 2]))"
      ]
     },
     "execution_count": 73,
     "metadata": {},
     "output_type": "execute_result"
    }
   ],
   "source": [
    "import numpy as np\n",
    "import tensorflow as tf\n",
    "\n",
    "print(tf.__version__, tf.keras.__version__)\n",
    "\n",
    "tf.random.set_seed(0)\n",
    "x = tf.Variable([[1., 2.], [2.,1.]])\n",
    "d = tf.Variable(0.0)\n",
    "\n",
    "with tf.GradientTape(persistent=True) as tape:\n",
    "    y = (x+d)**2\n",
    "\n",
    "dy_dx = tape.jacobian(y, d)\n",
    "y.shape, dy_dx.shape"
   ]
  },
  {
   "cell_type": "code",
   "execution_count": 74,
   "metadata": {},
   "outputs": [
    {
     "data": {
      "text/plain": [
       "<tf.Tensor: shape=(2, 2), dtype=float32, numpy=\n",
       "array([[2., 4.],\n",
       "       [4., 2.]], dtype=float32)>"
      ]
     },
     "execution_count": 74,
     "metadata": {},
     "output_type": "execute_result"
    }
   ],
   "source": [
    "dy_dx"
   ]
  }
 ],
 "metadata": {
  "hide_input": false,
  "kernelspec": {
   "display_name": "Python 3",
   "language": "python",
   "name": "python3"
  },
  "language_info": {
   "codemirror_mode": {
    "name": "ipython",
    "version": 3
   },
   "file_extension": ".py",
   "mimetype": "text/x-python",
   "name": "python",
   "nbconvert_exporter": "python",
   "pygments_lexer": "ipython3",
   "version": "3.8.3"
  },
  "toc": {
   "base_numbering": 1,
   "nav_menu": {},
   "number_sections": true,
   "sideBar": true,
   "skip_h1_title": false,
   "title_cell": "Table of Contents",
   "title_sidebar": "Contents",
   "toc_cell": false,
   "toc_position": {},
   "toc_section_display": true,
   "toc_window_display": false
  }
 },
 "nbformat": 4,
 "nbformat_minor": 2
}
