{
 "cells": [
  {
   "cell_type": "markdown",
   "metadata": {},
   "source": [
    "# Keras Pytorch etc."
   ]
  },
  {
   "cell_type": "code",
   "execution_count": 3,
   "metadata": {},
   "outputs": [],
   "source": [
    "import numpy as np\n",
    "import tensorflow as tf\n",
    "\n",
    "from numpy import array\n",
    "import keras\n",
    "from tensorflow.keras.models import Sequential\n",
    "from tensorflow.keras.layers import Dense\n",
    "from tensorflow.keras.layers import LSTM\n",
    "from tensorflow.keras.preprocessing.sequence import TimeseriesGenerator"
   ]
  },
  {
   "cell_type": "code",
   "execution_count": 50,
   "metadata": {},
   "outputs": [
    {
     "name": "stdout",
     "output_type": "stream",
     "text": [
      "Weights(1): (1, 1) [[0.5]]\n",
      "Weights: (1, 1) (1,) [[0.5]] [0.]\n",
      "Call Predict on untrained model\n",
      "Before Fit:  [[0.5]]\n",
      "Fit 0: [[1]] [10] [[9.827402]]\n",
      "Fit 1: [[1]] [10] [[9.996862]]\n",
      "Fit 2: [[1]] [10] [[9.999882]]\n",
      "Fit 3: [[1]] [10] [[9.999882]]\n",
      "Fit 4: [[1]] [10] [[9.999882]]\n",
      "#--- Weights after 4 pass\n",
      "Weights: (1, 1) (1,) [[5.249941]] [4.7499404] Output:  [[9.999882]]\n"
     ]
    }
   ],
   "source": [
    "# A Simple Network with One Node weights\n",
    "\n",
    "model = tf.keras.Sequential()\n",
    "model.add(Dense(1, activation='relu', input_dim=1))\n",
    "opt=tf.keras.optimizers.SGD(learning_rate=.001, momentum=0.0, nesterov=False)\n",
    "#model.compile(optimizer=opt, loss='binary_crossentropy')\n",
    "model.compile(optimizer=opt, loss='mse')\n",
    "\n",
    "# ~~~ Set custom weights\n",
    "wts1=( np.array([[0.5]]),  np.array([0]) )\n",
    "print('Weights(1):' , wts1[0].shape, wts1[0] )\n",
    "model.layers[0].set_weights(wts1)\n",
    "wts11=model.layers[0].get_weights()\n",
    "print('Weights:' , wts11[0].shape, wts11[1].shape, wts11[0], wts11[1] )\n",
    "\n",
    "#--- Do one pass through NN\n",
    "data=np.array([[1]]).reshape(1,-1)\n",
    "y = np.array([10])\n",
    "\n",
    "print('Call Predict on untrained model'  )\n",
    "yhat = model.predict(data, verbose=0)\n",
    "print(\"Before Fit: \" , yhat)\n",
    "\n",
    "for i in range(5):\n",
    "    f = model.fit(data, y, epochs=1000, verbose=0)\n",
    "    yhat = model.predict(data, verbose=0)\n",
    "    print(f\"Fit {i}: {data} {y} {yhat}\" )\n",
    "    #print(f\"1/1 - f.loss\\r\")\n",
    "print(f\"#--- Weights after {i} pass\");\n",
    "wts1=model.layers[0].get_weights()\n",
    "op=model.layers[0].output\n",
    "\n",
    "yhat = model.predict(data, verbose=0)\n",
    "wts11=model.layers[0].get_weights()\n",
    "print('Weights:' , wts11[0].shape, wts11[1].shape, wts11[0], wts11[1],  \"Output: \", yhat )\n",
    "\n"
   ]
  },
  {
   "cell_type": "code",
   "execution_count": 277,
   "metadata": {},
   "outputs": [
    {
     "name": "stdout",
     "output_type": "stream",
     "text": [
      "Tensor(\"dense_22_1/Identity:0\", shape=(None, 1), dtype=float32)\n"
     ]
    }
   ],
   "source": [
    "print(op)\n",
    "#oo=tf.compat.v1.keras.backend.get_session(op_input_list=())\n",
    "#op.eval(session=K.get_session())"
   ]
  },
  {
   "cell_type": "code",
   "execution_count": 33,
   "metadata": {},
   "outputs": [
    {
     "name": "stdout",
     "output_type": "stream",
     "text": [
      "Weights(0): (2, 2) (2,) \n",
      " [[0.5 0.1]\n",
      " [0.1 0.5]] [0 0]\n",
      "Weights: (2, 2) (2,) [[0.5 0.1]\n",
      " [0.1 0.5]] [0. 0.]\n",
      "Weights(1): (2, 1) (1,) \n",
      " [[0.5]\n",
      " [0.5]] [0]\n",
      "Weights: (2, 1) (1,) [[0.5]\n",
      " [0.5]] [0.]\n",
      "1/1 [==============================] - 0s 193ms/step - loss: -3.1384\n",
      "#--- Weights after one pass\n",
      "Weights: (2, 2) (2,) [[10.291664   9.8916645]\n",
      " [ 9.8916645 10.291664 ]] [9.791664 9.791664]\n",
      "Weights: (2, 1) (1,) [[12.249997]\n",
      " [12.249997]] [19.583328]\n"
     ]
    }
   ],
   "source": [
    "# A Simple Network with predefined weights\n",
    "\n",
    "model = tf.keras.Sequential()\n",
    "model.add(Dense(2, activation='relu', input_dim=2))\n",
    "model.add(Dense(1))\n",
    "opt=tf.keras.optimizers.SGD(learning_rate=0.5, momentum=0.0, nesterov=False)\n",
    "model.compile(optimizer=opt, loss='binary_crossentropy')\n",
    "\n",
    "# ~~~ Set custom weights\n",
    "wts0=( np.array([[0.5, 0.1], [0.1, 0.5]]),  np.array([0,0]) )\n",
    "print('Weights(0):' , wts0[0].shape, wts0[1].shape, \"\\n\", wts0[0], wts0[1] )\n",
    "\n",
    "model.layers[0].set_weights(wts0)\n",
    "wts01=model.layers[0].get_weights()\n",
    "print('Weights:' , wts01[0].shape, wts01[1].shape, wts01[0], wts01[1] )\n",
    "\n",
    "wts1=( np.array([[0.5], [0.5]]),  np.array([0]) )\n",
    "print('Weights(1):' , wts1[0].shape, wts1[1].shape, \"\\n\", wts1[0], wts1[1] )\n",
    "model.layers[1].set_weights(wts1)\n",
    "wts11=model.layers[1].get_weights()\n",
    "print('Weights:' , wts11[0].shape, wts11[1].shape, wts11[0], wts11[1] )\n",
    "\n",
    "#--- Do one pass through NN\n",
    "data=np.array([[1,1]])\n",
    "y =np.array([10])\n",
    "f=model.fit(data, y, epochs=1, verbose=1)\n",
    "\n",
    "print(\"#--- Weights after one pass\");\n",
    "wts1=model.layers[0].get_weights()\n",
    "print('Weights:' , wts1[0].shape, wts1[1].shape, wts1[0], wts1[1] )\n",
    "wts11=model.layers[1].get_weights()\n",
    "print('Weights:' , wts11[0].shape, wts11[1].shape, wts11[0], wts11[1] )\n"
   ]
  },
  {
   "cell_type": "code",
   "execution_count": 213,
   "metadata": {},
   "outputs": [
    {
     "data": {
      "text/plain": [
       "<tf.Tensor 'dense_3_1/Identity:0' shape=(None, 1) dtype=float32>"
      ]
     },
     "execution_count": 213,
     "metadata": {},
     "output_type": "execute_result"
    }
   ],
   "source": [
    "model.layers[1].output\n"
   ]
  },
  {
   "cell_type": "code",
   "execution_count": 54,
   "metadata": {},
   "outputs": [
    {
     "name": "stdout",
     "output_type": "stream",
     "text": [
      "Samples: 3, Shape:(3, 2)\n",
      "[[1 2]\n",
      " [2 3]\n",
      " [3 4]] => [30 40 50]\n",
      "[[4 5]\n",
      " [5 6]\n",
      " [6 7]] => [60 70 80]\n",
      "[[7 8]\n",
      " [8 9]] => [ 90 100]\n"
     ]
    }
   ],
   "source": [
    "dataset1 = array([1, 2, 3, 4, 5, 6, 7, 8, 9, 10])\n",
    "dataset2 = array([10, 20, 30, 40, 50, 60, 70, 80, 90, 100])\n",
    "n_input = 2\n",
    "generator = TimeseriesGenerator(dataset1, dataset2, length=n_input, batch_size=3)\n",
    "print(f'Samples: {len(generator)}, Shape:{generator[0][0].shape}')\n",
    "for i in range(len(generator)):\n",
    "    x, y = generator[i]\n",
    "    print(f'{x} => {y}')"
   ]
  },
  {
   "cell_type": "code",
   "execution_count": 56,
   "metadata": {},
   "outputs": [
    {
     "name": "stdout",
     "output_type": "stream",
     "text": [
      "[[0.98738676]]\n"
     ]
    }
   ],
   "source": [
    "generator = TimeseriesGenerator(dataset1, dataset2, length=n_input, batch_size=8)\n",
    "\n",
    "model = Sequential()\n",
    "model.add(Dense(5, activation='relu', input_dim=n_input))\n",
    "model.add(Dense(1))\n",
    "model.compile(optimizer='adam', loss='mse')\n",
    "model.fit_generator(generator, steps_per_epoch=1, epochs=1000, verbose=0)\n",
    "x_input = array([3, 4]).reshape((1, n_input))\n",
    "yhat = model.predict(x_input, verbose=0)\n",
    "print(yhat)\n",
    "for i in range (5):\n",
    "    model.fit_generator(generator, steps_per_epoch=1, epochs=1000, verbose=0)\n",
    "    x_input = array([3, 4]).reshape((1, n_input))\n",
    "    yhat = model.predict(x_input, verbose=0)\n",
    "    print(yhat)"
   ]
  },
  {
   "cell_type": "code",
   "execution_count": 143,
   "metadata": {},
   "outputs": [
    {
     "name": "stdout",
     "output_type": "stream",
     "text": [
      "Weights(0): (2, 2) (2,) \n",
      " [[0.5 0.1]\n",
      " [0.1 0.2]] [0 0]\n",
      "Weights: (2, 2) (2,) [[0.5 0.1]\n",
      " [0.1 0.2]] [0. 0.]\n",
      "Weights(1): (2, 1) (1,) \n",
      " [[0.5]\n",
      " [0.5]] [0]\n",
      "Weights: (2, 1) (1,) [[0.5]\n",
      " [0.5]] [0.]\n",
      "Epoch 1/1\n",
      "1/1 [==============================] - 0s 32ms/step - loss: 0.3025\n",
      "Weights: (2, 2) (2,) [[0.5055 0.1055]\n",
      " [0.1055 0.2055]] [0.0055 0.0055]\n"
     ]
    }
   ],
   "source": [
    "# A Simple Network with predefined weights\n",
    "\n",
    "model = Sequential()\n",
    "model.add(Dense(2, activation='relu', input_dim=2))\n",
    "model.add(Dense(1))\n",
    "model.compile(optimizer='sgd', loss='mse')\n",
    "\n",
    "# ~~~ Set custom weights\n",
    "wts0=( np.array([[0.5, 0.1], [0.1, 0.2]]),  np.array([0,0]) )\n",
    "print('Weights(0):' , wts0[0].shape, wts0[1].shape, \"\\n\", wts0[0], wts0[1] )\n",
    "\n",
    "model.layers[0].set_weights(wts0)\n",
    "wts01=model.layers[0].get_weights()\n",
    "print('Weights:' , wts01[0].shape, wts01[1].shape, wts01[0], wts01[1] )\n",
    "\n",
    "wts1=( np.array([[0.5], [0.5]]),  np.array([0]) )\n",
    "print('Weights(1):' , wts1[0].shape, wts1[1].shape, \"\\n\", wts1[0], wts1[1] )\n",
    "model.layers[1].set_weights(wts1)\n",
    "wts11=model.layers[1].get_weights()\n",
    "print('Weights:' , wts11[0].shape, wts11[1].shape, wts11[0], wts11[1] )\n",
    "\n",
    "#--- Do one pass through NN\n",
    "data=np.array([[1,1]])\n",
    "model.fit(data, [1], epochs=1, verbose=1)\n",
    "\n",
    "wts1=model.layers[0].get_weights()\n",
    "print('Weights:' , wts1[0].shape, wts1[1].shape, wts1[0], wts1[1] )\n"
   ]
  },
  {
   "cell_type": "code",
   "execution_count": 126,
   "metadata": {},
   "outputs": [
    {
     "name": "stdout",
     "output_type": "stream",
     "text": [
      "Weights: (2, 1) (1,) [[ 0.43578127]\n",
      " [-1.075966  ]] [0.02141919]\n"
     ]
    }
   ],
   "source": [
    "wts01=model.layers[1].get_weights()\n",
    "print('Weights:' , wts01[0].shape, wts01[1].shape, wts01[0], wts01[1] )\n"
   ]
  }
 ],
 "metadata": {
  "hide_input": false,
  "kernelspec": {
   "display_name": "Python 3",
   "language": "python",
   "name": "python3"
  },
  "language_info": {
   "codemirror_mode": {
    "name": "ipython",
    "version": 3
   },
   "file_extension": ".py",
   "mimetype": "text/x-python",
   "name": "python",
   "nbconvert_exporter": "python",
   "pygments_lexer": "ipython3",
   "version": "3.8.3"
  },
  "toc": {
   "base_numbering": 1,
   "nav_menu": {},
   "number_sections": true,
   "sideBar": true,
   "skip_h1_title": false,
   "title_cell": "Table of Contents",
   "title_sidebar": "Contents",
   "toc_cell": false,
   "toc_position": {},
   "toc_section_display": true,
   "toc_window_display": false
  }
 },
 "nbformat": 4,
 "nbformat_minor": 2
}
