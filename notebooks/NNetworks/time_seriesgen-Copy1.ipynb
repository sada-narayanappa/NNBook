{
 "cells": [
  {
   "cell_type": "markdown",
   "metadata": {},
   "source": [
    "# TimeGenerator specialized\n",
    "\n",
    "How to use time series generator and write a custome time series generator"
   ]
  },
  {
   "cell_type": "code",
   "execution_count": 17,
   "metadata": {},
   "outputs": [],
   "source": [
    "try:\n",
    "    %reload_ext autoreload\n",
    "except:\n",
    "    %load_ext autoreload\n",
    "%autoreload 2\n",
    "\n",
    "import os, datetime\n",
    "import tensorflow as tf\n",
    "import matplotlib as mpl\n",
    "import matplotlib.pyplot as plt\n",
    "import numpy as np\n",
    "import pandas as pd\n",
    "from tensorflow.keras.layers import LSTM\n",
    "from keras.layers import Dense, Dropout, Embedding, LSTM, Bidirectional\n",
    "from tensorflow.keras.models import load_model\n",
    "from sklearn.preprocessing import StandardScaler\n",
    "from IPython import display\n",
    "from IPython.core.display import HTML\n",
    "from keras.preprocessing.sequence import TimeseriesGenerator\n",
    "import IPython\n",
    "from IPython.display import display\n",
    "\n",
    "mpl.rcParams['figure.figsize'] = (16, 5)\n",
    "mpl.rcParams['axes.grid'] = False\n",
    "\n",
    "tf.random.set_seed(13)\n"
   ]
  },
  {
   "cell_type": "code",
   "execution_count": 18,
   "metadata": {},
   "outputs": [
    {
     "ename": "SyntaxError",
     "evalue": "invalid syntax (<ipython-input-18-0919111bea48>, line 1)",
     "output_type": "error",
     "traceback": [
      "\u001b[0;36m  File \u001b[0;32m\"<ipython-input-18-0919111bea48>\"\u001b[0;36m, line \u001b[0;32m1\u001b[0m\n\u001b[0;31m    data =\u001b[0m\n\u001b[0m          ^\u001b[0m\n\u001b[0;31mSyntaxError\u001b[0m\u001b[0;31m:\u001b[0m invalid syntax\n"
     ]
    }
   ],
   "source": [
    "data =\n",
    "'''\n",
    "[10 20 30]\n",
    "[11 21 31]\n",
    "[12 22 32]\n",
    "[13 23 33]\n",
    "'''\n",
    "\n",
    "0\n",
    "[10 20 30]\n",
    "[11 21 31]  ==> [10 20 30]\n",
    "                [11 21 31]\n",
    "\n",
    "\n",
    "\n",
    "1\n",
    "[11 21 31]\n",
    "[12 22 32] ==>  [11 21 31]\n",
    "                [12 22 32]\n",
    "\n",
    "2\n",
    "[12 22 32]\n",
    "[13 23 33] ==> \n",
    "                [12 22 32]\n",
    "                [13 23 33]\n",
    "\n",
    "\n",
    "\n",
    "\n",
    "class TimeSeriesGeneratorSAda:\n",
    "    def __init__(data, labels):\n",
    "        self.data = data\n",
    "        self.labels = labels\n",
    "\n",
    "    def __init__(data, labelsGenerator):\n",
    "        self.data = data\n",
    "        self.labels = labels\n",
    "        \n",
    "    def __next__(i):\n",
    "        d = 'you will contruct'\n",
    "        return d, self.labelsGenerator[i]\n",
    "    \n",
    "    \n",
    "t = TimeSeriesGeneratorSAda(data, labels)\n",
    "\n",
    "for i in t:\n",
    "    print(i) \n",
    "        \n",
    "        "
   ]
  },
  {
   "cell_type": "code",
   "execution_count": 15,
   "metadata": {
    "scrolled": false
   },
   "outputs": [
    {
     "data": {
      "text/html": [
       "<table border=1><tr><td><table border=\"1\" class=\"dataframe\">\n",
       "  <thead>\n",
       "    <tr style=\"text-align: right;\">\n",
       "      <th></th>\n",
       "      <th>T (degC)</th>\n",
       "      <th>p (mbar)</th>\n",
       "      <th>rho (g/m**3)</th>\n",
       "    </tr>\n",
       "    <tr>\n",
       "      <th>Date Time</th>\n",
       "      <th></th>\n",
       "      <th></th>\n",
       "      <th></th>\n",
       "    </tr>\n",
       "  </thead>\n",
       "  <tbody>\n",
       "    <tr>\n",
       "      <th>2009-01-01 00:10:00</th>\n",
       "      <td>-8.02</td>\n",
       "      <td>996.52</td>\n",
       "      <td>1307.75</td>\n",
       "    </tr>\n",
       "    <tr>\n",
       "      <th>2009-01-01 00:20:00</th>\n",
       "      <td>-8.41</td>\n",
       "      <td>996.57</td>\n",
       "      <td>1309.80</td>\n",
       "    </tr>\n",
       "    <tr>\n",
       "      <th>2009-01-01 00:30:00</th>\n",
       "      <td>-8.51</td>\n",
       "      <td>996.53</td>\n",
       "      <td>1310.24</td>\n",
       "    </tr>\n",
       "    <tr>\n",
       "      <th>2009-01-01 00:40:00</th>\n",
       "      <td>-8.31</td>\n",
       "      <td>996.51</td>\n",
       "      <td>1309.19</td>\n",
       "    </tr>\n",
       "    <tr>\n",
       "      <th>2009-01-01 00:50:00</th>\n",
       "      <td>-8.27</td>\n",
       "      <td>996.51</td>\n",
       "      <td>1309.00</td>\n",
       "    </tr>\n",
       "    <tr>\n",
       "      <th>2009-01-01 01:00:00</th>\n",
       "      <td>-8.05</td>\n",
       "      <td>996.50</td>\n",
       "      <td>1307.86</td>\n",
       "    </tr>\n",
       "    <tr>\n",
       "      <th>2009-01-01 01:10:00</th>\n",
       "      <td>-7.62</td>\n",
       "      <td>996.50</td>\n",
       "      <td>1305.68</td>\n",
       "    </tr>\n",
       "    <tr>\n",
       "      <th>2009-01-01 01:20:00</th>\n",
       "      <td>-7.62</td>\n",
       "      <td>996.50</td>\n",
       "      <td>1305.69</td>\n",
       "    </tr>\n",
       "    <tr>\n",
       "      <th>2009-01-01 01:30:00</th>\n",
       "      <td>-7.91</td>\n",
       "      <td>996.50</td>\n",
       "      <td>1307.17</td>\n",
       "    </tr>\n",
       "    <tr>\n",
       "      <th>2009-01-01 01:40:00</th>\n",
       "      <td>-8.43</td>\n",
       "      <td>996.53</td>\n",
       "      <td>1309.85</td>\n",
       "    </tr>\n",
       "    <tr>\n",
       "      <th>2009-01-01 01:50:00</th>\n",
       "      <td>-8.76</td>\n",
       "      <td>996.62</td>\n",
       "      <td>1311.64</td>\n",
       "    </tr>\n",
       "    <tr>\n",
       "      <th>2009-01-01 02:00:00</th>\n",
       "      <td>-8.88</td>\n",
       "      <td>996.62</td>\n",
       "      <td>1312.25</td>\n",
       "    </tr>\n",
       "  </tbody>\n",
       "</table></td></tr></table> 10000 rows x 3 columns"
      ],
      "text/plain": [
       "<IPython.core.display.HTML object>"
      ]
     },
     "metadata": {},
     "output_type": "display_data"
    }
   ],
   "source": [
    "# Read Data\n",
    "#del dfn1\n",
    "#Down the data set from: https://www.kaggle.com/stytch16/jena-climate-2009-2016\n",
    "        \n",
    "if ( \"dfn1\" not in globals()):\n",
    "    csv_path = 'jena_climate_2009_2016.csv.zip'\n",
    "    df = pd.read_csv(csv_path, nrows=10000)\n",
    "    df['Date Time'] = pd.to_datetime( df['Date Time'] )\n",
    "\n",
    "    dfn1= df[['T (degC)']].copy()\n",
    "    dfn1.index = df['Date Time']\n",
    "\n",
    "    dfn2= df[['T (degC)', 'p (mbar)', 'rho (g/m**3)']].copy()\n",
    "    dfn2.index = df['Date Time']\n",
    "\n",
    "    dfn = dfn2\n",
    "    dfn\n",
    "    \n",
    "h2=dfn2[0:12].to_html()\n",
    "fi=f\"<table border=1><tr><td>{h2}</td></tr></table> {dfn2.shape[0]} rows x {dfn2.shape[1]} columns\"\n",
    "display(HTML(fi))"
   ]
  },
  {
   "cell_type": "markdown",
   "metadata": {},
   "source": [
    "# Data\n",
    "\n",
    "Review the data carefully. It has 10k rows, readings taken for every 10 minutes; it is used to show how to use Time series generator; we chose 3 features (it can be one). These are some complicaed ways to use Time Series Generator.\n",
    "\n",
    "Our first example will be to use Sime Time Series Generator with some history "
   ]
  },
  {
   "cell_type": "code",
   "execution_count": 19,
   "metadata": {},
   "outputs": [
    {
     "name": "stdout",
     "output_type": "stream",
     "text": [
      "(2, 3, 3), (2,) -8.31\n",
      "X: \n",
      "[[  -8.02  996.52 1307.75]\n",
      " [  -8.41  996.57 1309.8 ]\n",
      " [  -8.51  996.53 1310.24]] ==>-8.31 (4th entry) <= should match every 3rd\n",
      "(2, 3, 3), (2,) -8.31\n",
      "X: \n",
      "[[  -8.41  996.57 1309.8 ]\n",
      " [  -8.51  996.53 1310.24]\n",
      " [  -8.31  996.51 1309.19]] ==>-8.27 (4th entry) <= should match every 3rd\n"
     ]
    }
   ],
   "source": [
    "# Sanity Check to make sure everything is aligned\n",
    "tsParams={ \n",
    "    \"length\":         3,\n",
    "    \"batch_size\":     2,\n",
    "    \"stride\":         1,\n",
    "    \"sampling_rate\" : 1\n",
    "}\n",
    "data   = dfn2.values\n",
    "lables = data[:,0]\n",
    "g = TimeseriesGenerator(data, lables, **tsParams )\n",
    "\n",
    "#Lets review the generator output\n",
    "x, y = g[0]    \n",
    "print(f'{x.shape}, {y.shape} {y[0]}')\n",
    "print(f'X: \\n{x[0]} ==>{y[0]} (4th entry) <= should match every 3rd')\n",
    "\n",
    "print(f'{x.shape}, {y.shape} {y[0]}')\n",
    "print(f'X: \\n{x[1]} ==>{y[1]} (4th entry) <= should match every 3rd')"
   ]
  },
  {
   "cell_type": "markdown",
   "metadata": {},
   "source": [
    "## Multi step prediction\n",
    "\n",
    "TimeseriesGenerator does not inherently support muti step predictions. One way to do it is to prepare a label data as follows and use TimeseriesGenerator"
   ]
  },
  {
   "cell_type": "code",
   "execution_count": 20,
   "metadata": {},
   "outputs": [
    {
     "data": {
      "text/plain": [
       "array([[-8.02, -8.41, -8.51],\n",
       "       [-8.41, -8.51, -8.31],\n",
       "       [-8.51, -8.31, -8.27],\n",
       "       [-8.31, -8.27, -8.05],\n",
       "       [-8.27, -8.05, -7.62],\n",
       "       [-8.05, -7.62, -7.62]])"
      ]
     },
     "execution_count": 20,
     "metadata": {},
     "output_type": "execute_result"
    }
   ],
   "source": [
    "def makestep(a, start, steps=5):\n",
    "    o= []\n",
    "    for i in range(steps):\n",
    "        a1 = a[start+i:-steps+i+1 or None]\n",
    "        o.append(a1)\n",
    "    \n",
    "    return np.hstack([o]).T\n",
    "\n",
    "#Example showing how makestep works \n",
    "nsteps = 3\n",
    "data   = dfn2.values\n",
    "lables = data[:,0]\n",
    "\n",
    "lables = makestep(lables, 0, nsteps)\n",
    "lables[0:6]"
   ]
  },
  {
   "cell_type": "code",
   "execution_count": 7,
   "metadata": {},
   "outputs": [
    {
     "name": "stdout",
     "output_type": "stream",
     "text": [
      "(2, 3, 3), (2, 3) [-8.31 -8.27 -8.05]\n",
      "X: \n",
      "[[  -8.02  996.52 1307.75]\n",
      " [  -8.41  996.57 1309.8 ]\n",
      " [  -8.51  996.53 1310.24]] ==>[-8.31 -8.27 -8.05] (4th entry) <= should match every 3rd\n"
     ]
    }
   ],
   "source": [
    "#Suppose we want to do 3 step predictions, then:\n",
    "#\n",
    "nsteps = 3\n",
    "data   = dfn2.values\n",
    "lables = data[:,0]\n",
    "\n",
    "lables = makestep(lables, 0, nsteps)\n",
    "data   = data[:-nsteps+1 or None]\n",
    "\n",
    "g = TimeseriesGenerator(data, lables, **tsParams )\n",
    "\n",
    "#Lets review the generator output\n",
    "x, y = g[0]    \n",
    "print(f'{x.shape}, {y.shape} {y[0]}')\n",
    "print(f'X: \\n{x[0]} ==>{y[0]} (4th entry) <= should match every 3rd')\n"
   ]
  },
  {
   "cell_type": "code",
   "execution_count": 23,
   "metadata": {},
   "outputs": [
    {
     "data": {
      "text/plain": [
       "'len(obj)  ==> obj.__len__()\\nobj[i] ==> obj.__getitem__(i)\\nobj[9:10] ==> obj.__getitem__(slice(9,10))\\n'"
      ]
     },
     "execution_count": 23,
     "metadata": {},
     "output_type": "execute_result"
    }
   ],
   "source": [
    "class TargetGen(object):\n",
    "    def __init__(self, targets, nsteps=1):\n",
    "        self.targets = targets\n",
    "        self.nsteps  = nsteps\n",
    "        \n",
    "    def __len__(self):\n",
    "        return len(self.targets[:-self.nsteps+1 or None])\n",
    "\n",
    "    def getData(self, index):\n",
    "        t = self.targets[index: index + self.nsteps]\n",
    "        return t\n",
    "\n",
    "    def __getitem__( self, key ) :\n",
    "        if isinstance( key, int ) :\n",
    "            if key < 0: \n",
    "                key += len(self)\n",
    "            if key < 0 or key >= len( self ) :\n",
    "                raise (IndexError, f\"The index (key) is out of range. {len(slef)}\")\n",
    "            return self.getData(key)\n",
    "        if isinstance( key, slice ) :\n",
    "            return [self.targets[ii: ii + self.nsteps] for ii in range(*key.indices(len(self)))]\n",
    "        else:\n",
    "            raise (TypeError, \"Invalid argument type.\")\n",
    "\n",
    "    def __getitem__( self, key ) :\n",
    "        return self.getData(key)\n",
    "            \n",
    "            \n",
    "data   = dfn2.values\n",
    "data   = data[:-nsteps+1 or None]\n",
    "lables = data[:,0]\n",
    "\n",
    "lg= TargetGen(data, nsteps=3)\n",
    "len(lg), lg[3]\n",
    "\n",
    "'''len(obj)  ==> obj.__len__()\n",
    "obj[i] ==> obj.__getitem__(i)\n",
    "obj[9:10] ==> obj.__getitem__(slice(9,10))\n",
    "'''"
   ]
  },
  {
   "cell_type": "code",
   "execution_count": 26,
   "metadata": {},
   "outputs": [
    {
     "ename": "ValueError",
     "evalue": "Data and targets have to be of same length. Data length is 9998 while target length is 9996",
     "output_type": "error",
     "traceback": [
      "\u001b[0;31m---------------------------------------------------------------------------\u001b[0m",
      "\u001b[0;31mValueError\u001b[0m                                Traceback (most recent call last)",
      "\u001b[0;32m<ipython-input-26-f917521689c7>\u001b[0m in \u001b[0;36m<module>\u001b[0;34m\u001b[0m\n\u001b[1;32m      9\u001b[0m \u001b[0;34m\u001b[0m\u001b[0m\n\u001b[1;32m     10\u001b[0m \u001b[0mlg\u001b[0m\u001b[0;34m=\u001b[0m \u001b[0mTargetGen\u001b[0m\u001b[0;34m(\u001b[0m\u001b[0mlables\u001b[0m\u001b[0;34m,\u001b[0m \u001b[0mnsteps\u001b[0m\u001b[0;34m=\u001b[0m\u001b[0;36m3\u001b[0m\u001b[0;34m)\u001b[0m\u001b[0;34m\u001b[0m\u001b[0;34m\u001b[0m\u001b[0m\n\u001b[0;32m---> 11\u001b[0;31m \u001b[0mg\u001b[0m \u001b[0;34m=\u001b[0m \u001b[0mTimeseriesGenerator\u001b[0m\u001b[0;34m(\u001b[0m\u001b[0mdata\u001b[0m\u001b[0;34m,\u001b[0m \u001b[0mlg\u001b[0m\u001b[0;34m,\u001b[0m \u001b[0;34m**\u001b[0m\u001b[0mtsParams\u001b[0m \u001b[0;34m)\u001b[0m\u001b[0;34m\u001b[0m\u001b[0;34m\u001b[0m\u001b[0m\n\u001b[0m\u001b[1;32m     12\u001b[0m \u001b[0;34m\u001b[0m\u001b[0m\n\u001b[1;32m     13\u001b[0m \u001b[0;31m#Lets review the generator output\u001b[0m\u001b[0;34m\u001b[0m\u001b[0;34m\u001b[0m\u001b[0;34m\u001b[0m\u001b[0m\n",
      "\u001b[0;32m~/anaconda3/lib/python3.7/site-packages/keras_preprocessing/sequence.py\u001b[0m in \u001b[0;36m__init__\u001b[0;34m(self, data, targets, length, sampling_rate, stride, start_index, end_index, shuffle, reverse, batch_size)\u001b[0m\n\u001b[1;32m    334\u001b[0m                              \u001b[0;34m' of same length. '\u001b[0m\u001b[0;34m\u001b[0m\u001b[0;34m\u001b[0m\u001b[0m\n\u001b[1;32m    335\u001b[0m                              \u001b[0;34m'Data length is {}'\u001b[0m\u001b[0;34m.\u001b[0m\u001b[0mformat\u001b[0m\u001b[0;34m(\u001b[0m\u001b[0mlen\u001b[0m\u001b[0;34m(\u001b[0m\u001b[0mdata\u001b[0m\u001b[0;34m)\u001b[0m\u001b[0;34m)\u001b[0m \u001b[0;34m+\u001b[0m\u001b[0;34m\u001b[0m\u001b[0;34m\u001b[0m\u001b[0m\n\u001b[0;32m--> 336\u001b[0;31m                              ' while target length is {}'.format(len(targets)))\n\u001b[0m\u001b[1;32m    337\u001b[0m \u001b[0;34m\u001b[0m\u001b[0m\n\u001b[1;32m    338\u001b[0m         \u001b[0mself\u001b[0m\u001b[0;34m.\u001b[0m\u001b[0mdata\u001b[0m \u001b[0;34m=\u001b[0m \u001b[0mdata\u001b[0m\u001b[0;34m\u001b[0m\u001b[0;34m\u001b[0m\u001b[0m\n",
      "\u001b[0;31mValueError\u001b[0m: Data and targets have to be of same length. Data length is 9998 while target length is 9996"
     ]
    }
   ],
   "source": [
    "#Suppose we want to do 3 step predictions, then:\n",
    "#\n",
    "nsteps = 3\n",
    "data   = dfn2.values\n",
    "lables = data[:,0]\n",
    "\n",
    "data   = data[:-nsteps+1 or None]\n",
    "lables = data[:,0]\n",
    "\n",
    "lg= TargetGen(lables, nsteps=3)\n",
    "g = TimeseriesGenerator(data, lg, **tsParams )\n",
    "\n",
    "#Lets review the generator output\n",
    "x, y = g[0]    \n",
    "print(f'{x.shape}, {y.shape} {y[0]}')\n",
    "print(f'X: \\n{x[0]} ==>{y[0]} (4th entry) <= should match every 3rd')\n"
   ]
  },
  {
   "cell_type": "code",
   "execution_count": 55,
   "metadata": {},
   "outputs": [
    {
     "name": "stdout",
     "output_type": "stream",
     "text": [
      "{'inps': 32, 'inshape': (3, 3), 'units2': 32, 'nsteps': 4, 'opt': 'adam', 'loss': 'mse', 'bi': False, 'dropout': None, 's': (3, 3)}\n",
      "Creating LSTM: inuts= 32 time-steps: 3, features: 3 #out: 4\n",
      "Epoch 1/1\n",
      "200/200 [==============================] - 1s 5ms/step - loss: 22.2889\n"
     ]
    },
    {
     "data": {
      "text/plain": [
       "<keras.callbacks.callbacks.History at 0x7fb69c1ab8d0>"
      ]
     },
     "execution_count": 55,
     "metadata": {},
     "output_type": "execute_result"
    }
   ],
   "source": [
    "#Check and use it in LSTM model\n",
    "import keras\n",
    "from tensorflow.keras.layers import LSTM\n",
    "from keras.layers import Dense, Dropout, Embedding, LSTM, Bidirectional\n",
    "\n",
    "def lstmmodel(inps, inshape, units2=None, nsteps=1, opt=\"adam\", loss=\"mse\", bi=False, dropout=None):\n",
    "    s= inshape\n",
    "    print(locals())\n",
    "    print(f\"Creating LSTM: inuts= {inps} time-steps: {s[0]}, features: {s[1]} #out: {nsteps}\")\n",
    "    m = keras.models.Sequential()\n",
    "\n",
    "    if (bi):\n",
    "        m.add(keras.layers.Bidirectional(\n",
    "            keras.layers.LSTM(inps, return_sequences= (units2 is not None), input_shape=s) ) )\n",
    "    else:\n",
    "        m.add(keras.layers.LSTM(inps, return_sequences= (units2 is not None), input_shape=s) )\n",
    "    \n",
    "    if(units2 is not None): #Lets just keep it simple for 2 layers only\n",
    "        m.add(keras.layers.LSTM(units2, activation='relu'))\n",
    "    if (dropout is not None):\n",
    "        m.add( keras.layers.Dropout(dropout) )\n",
    "    m.add(keras.layers.Dense(nsteps))\n",
    "    m.compile(optimizer = opt, loss= loss)\n",
    "    return m\n",
    "\n",
    "def Plot_(y, h, x=None, title=None,**kwargs):\n",
    "    plt.plot(y[:,0], marker=\".\", label = \"y\")\n",
    "\n",
    "    if ( len(h.shape) <= 1):\n",
    "        h = h.reshape((len(h), 1))\n",
    "    for i in range(h.shape[-1]):\n",
    "        uy=h[i:,i]\n",
    "        plt.plot(range(i, len(uy)+i), uy, marker=\"x\",  label = f\"$h_{i}$\")\n",
    "\n",
    "    plt.title(title)\n",
    "    plt.grid(b=\"on\")\n",
    "    plt.legend()\n",
    "    return y1, h1;\n",
    "\n",
    "\n",
    "nsteps  = 4\n",
    "features= 3\n",
    "\n",
    "tsParams={ \n",
    "    \"length\":         3,\n",
    "    \"batch_size\":     2,\n",
    "    \"stride\":         1,\n",
    "    \"sampling_rate\" : 1\n",
    "}\n",
    "\n",
    "m = lstmmodel(32, (tsParams['length'],features), units2=32, nsteps=nsteps, opt=\"adam\", loss=\"mse\" )\n",
    "\n",
    "data   = dfn2.values\n",
    "lables = data[:,0]\n",
    "\n",
    "data   = data[:-nsteps+1 or None]\n",
    "lables = data[:,0]\n",
    "\n",
    "lg= TargetGen(data,lables, nsteps=nsteps)\n",
    "g = TimeseriesGenerator(data, lg, **tsParams )\n",
    "\n",
    "m.fit(g, verbose=1, epochs=1, steps_per_epoch=200)"
   ]
  },
  {
   "cell_type": "code",
   "execution_count": 57,
   "metadata": {},
   "outputs": [
    {
     "name": "stdout",
     "output_type": "stream",
     "text": [
      "Epoch 1/1\n",
      "200/200 [==============================] - 0s 2ms/step - loss: 24.2348\n"
     ]
    },
    {
     "data": {
      "text/plain": [
       "(array([[-8.31, -8.27, -8.05, -7.62],\n",
       "        [-8.27, -8.05, -7.62, -7.62]]),\n",
       " array([[-0.5325498 , -0.5041434 , -0.48151752, -0.55307007],\n",
       "        [-0.5325498 , -0.5041434 , -0.48151746, -0.55307007],\n",
       "        [-0.53254974, -0.5041434 , -0.48151746, -0.55307007],\n",
       "        ...,\n",
       "        [-0.5325493 , -0.5041436 , -0.48151758, -0.55306995],\n",
       "        [-0.5325493 , -0.5041436 , -0.48151758, -0.55306995],\n",
       "        [-0.5325493 , -0.5041436 , -0.48151758, -0.55306995]],\n",
       "       dtype=float32))"
      ]
     },
     "execution_count": 57,
     "metadata": {},
     "output_type": "execute_result"
    },
    {
     "data": {
      "image/png": "[encoded data removed]",
      "text/plain": [
       "<Figure size 1152x360 with 1 Axes>"
      ]
     },
     "metadata": {
      "needs_background": "light"
     },
     "output_type": "display_data"
    }
   ],
   "source": [
    "m.fit(g, verbose=1, epochs=1, steps_per_epoch=200)\n",
    "x, y = g[0]\n",
    "h = m.predict(g)\n",
    "h1, y1 = h,y\n",
    "Plot_(y1,h1)"
   ]
  },
  {
   "cell_type": "markdown",
   "metadata": {},
   "source": [
    "# Complicated example to include sampling rate"
   ]
  },
  {
   "cell_type": "code",
   "execution_count": null,
   "metadata": {
    "scrolled": false
   },
   "outputs": [],
   "source": [
    "# Sanity Check to make sure everything is aligned\n",
    "tsParams={ \n",
    "    \"length\":         720,\n",
    "    \"batch_size\":     256,\n",
    "    \"stride\":         1,\n",
    "    \"sampling_rate\" : 6\n",
    "}\n",
    "data   = dfn2.values\n",
    "labels = data[:,0]\n",
    "g = TimeseriesGenerator(data, labels, **tsParams )\n",
    "\n",
    "#Lets review the generator output\n",
    "x, y = g[0]    \n",
    "print(f'{x.shape}, {y.shape} {y[0]}')\n",
    "print(f'X: \\n{x[0][-3:]} <= should match every 6th entry\\n Also: \\n{y[0]} <= 720th entry')"
   ]
  },
  {
   "cell_type": "code",
   "execution_count": null,
   "metadata": {},
   "outputs": [],
   "source": [
    "# Sanity Check to visually check if X and y correctly aligned\n",
    "# Whenever you see \"<=\" mark, it is aligned at sampling rate of 6\n",
    "\n",
    "dfn3= dfn2.copy()\n",
    "dfn3['idx'] = [i if i % 6 != 0 else f'<={i}' for i in range(len(dfn3))]\n",
    "display(dfn3[700:724])\n",
    "del dfn3"
   ]
  }
 ],
 "metadata": {
  "accelerator": "GPU",
  "colab": {
   "collapsed_sections": [],
   "name": "time_series.ipynb",
   "private_outputs": true,
   "toc_visible": true
  },
  "kernelspec": {
   "display_name": "Python 3",
   "language": "python",
   "name": "python3"
  },
  "language_info": {
   "codemirror_mode": {
    "name": "ipython",
    "version": 3
   },
   "file_extension": ".py",
   "mimetype": "text/x-python",
   "name": "python",
   "nbconvert_exporter": "python",
   "pygments_lexer": "ipython3",
   "version": "3.7.4"
  }
 },
 "nbformat": 4,
 "nbformat_minor": 4
}
