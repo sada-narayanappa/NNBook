{
 "cells": [
  {
   "cell_type": "code",
   "execution_count": 1,
   "metadata": {},
   "outputs": [
    {
     "data": {
      "text/html": [
       "\n",
       "<textarea rows=5 id=nav_head_content style=\"width:100%;display:none;\">\n",
       "<style>\n",
       "a.bh,  a.bh:visited, a.bh:link, a.bh:active {\n",
       "  ttext-decoration: none; \n",
       "  color: black;\n",
       "  font-family: 'Roboto','Heebo',Arial,sans-serif;\n",
       "  font-size: 3em\n",
       "}\n",
       "</style>\n",
       "<!--\n",
       "<div id='HTMLTopBar' style=\"    \n",
       "    z-index: 50;\n",
       "    align-items: stretch;\n",
       "    width:100%\">\n",
       "    <div  style=\"\n",
       "        text-color: black;\n",
       "        background-color: #fefefe;\n",
       "        bborder-bottom: 1px dotted gray;\n",
       "        padding-left: 2px;\n",
       "        box-shadow: 5px 1px #ccc;\n",
       "        height: 40px; left: 0; \n",
       "        padding: 14px;\n",
       "        \"\n",
       "    >\n",
       "    <a class=bh1 href=\"#\" onclick=\"$('#maintoolbar').toggle();\">X</a>\n",
       "</div>\n",
       "-->\n",
       "</textarea>\n",
       "\n",
       "<script>\n",
       "if ($('#nav_head').length < 1) {\n",
       "    $('#notebook-container').prepend('<div id=\"nav_head\" style=\"width:100%;\">.</div>')\n",
       "    console.log(\"Added a div\")\n",
       "} else{\n",
       "    console.log(\"Already Added\")    \n",
       "}\n",
       "\n",
       "$('#nav_head').html($('#nav_head_content').val())\n",
       "\n",
       "$('.nbp-app-bar').toggle()\n",
       "</script>\n"
      ],
      "text/plain": [
       "<IPython.core.display.HTML object>"
      ]
     },
     "metadata": {},
     "output_type": "display_data"
    },
    {
     "data": {
      "text/html": [
       "<style>\n",
       "@import url('https://fonts.googleapis.com/css2?family=Roboto&display=swap');\n",
       "</style>\n",
       "<style>\n",
       "<link href=\"https://fonts.googleapis.com/css2?family=Roboto&display=swap\" rel=\"stylesheet\">\n",
       "\n",
       "body  p ol li {\n",
       "    font-family: \"Roboto\",  \"Lucida Grande\", \"Lucida Sans Unicode\";\n",
       "    font-size: 14px;\n",
       "    background: #fff\n",
       "}\n",
       "\n",
       "h1, h2, h3{\n",
       "    font-family: 'Roboto', sans-serif;\n",
       "}\n",
       "div#notebook_panel div#notebook{\n",
       "    background: #ffffff\n",
       "}\n",
       "div#notebook-container{\n",
       "    box-shadow: 0px;\n",
       "    padding: 0px;\n",
       "    border-left: .05em dotted gray;\n",
       "    -webkit-box-shadow: 0px;\n",
       "    box-shadow: none;\n",
       "}\n",
       "</style>\n"
      ],
      "text/plain": [
       "<IPython.core.display.HTML object>"
      ]
     },
     "metadata": {},
     "output_type": "display_data"
    },
    {
     "data": {
      "text/html": [
       "<style>\n",
       ".container { width: 100% !important; }\n",
       "    div.cell{\n",
       "        width:100%;\n",
       "        margin-left:0%;\n",
       "        margin-right:auto;\n",
       "}\n",
       ".CodeMirror {\n",
       "    font-family: monospace;\n",
       "}\n",
       "div.input_area {\n",
       "    border: 0px;\n",
       "}\n",
       "div.cell.selected{\n",
       "  border: '0px';\n",
       "}\n",
       ".cell.selected{\n",
       "  border: '0px';\n",
       "}\n",
       "div#notebook{\n",
       "    padding-top: 0px;\n",
       "}\n",
       "div.prompt_container {\n",
       "    display: block; \n",
       "    background: #f7f7f7;\n",
       "}\n",
       "div.prompt{\n",
       "    min-width:0px;\n",
       "    display: grid;\n",
       "}\n",
       "div.cell{\n",
       "    padding-bottom: 5px;\n",
       "    padding-left: 0px;\n",
       "}\n",
       "\n",
       "a.bh,  a.bh:visited, a.bh:link, a.bh:active {\n",
       "  text-decoration: none; \n",
       "  color:white;\n",
       "  font-family: 'Roboto','Heebo',Arial,sans-serif;\n",
       "  font-size:1em\n",
       "}\n",
       "a.bh:hover {\n",
       "  color: #ffccdd;\n",
       "}\n",
       "\n",
       "a.bh1,  a.bh1:visited, a.bh1:link, a.bh1:active {\n",
       "  text-decoration: none; \n",
       "  color: rgba(0, 0, 0, 0.87);\n",
       "  font-family: 'Roboto','Heebo',Arial,sans-serif;\n",
       "  padding-right: 30px;\n",
       "  font-size:1.1em\n",
       "}\n",
       "a.bh1:hover {\n",
       "  color: rgba(0, 0, 0, 0.57);\n",
       "}\n",
       "    \n",
       "#toc-wrapper {\n",
       "   font-family: 'Roboto','Heebo',Arial,sans-serif;\n",
       "    border: 0px dotted gray;\n",
       "    padding: 10px;\n",
       "    line-height: 1.8em;\n",
       "}    \n",
       "</style>\n",
       "<script>\n",
       "l=\"https://www.ancient-symbols.com/images/wp-image-library/fullsize/infinity.jpg\"\n",
       "l=\"imgs/logo.png\"\n",
       "l=\"\"\n",
       "$('#ipython_notebook').html(`<img src=\"${l}\">`)\n",
       "\n",
       "</script>\n"
      ],
      "text/plain": [
       "<IPython.core.display.HTML object>"
      ]
     },
     "metadata": {},
     "output_type": "display_data"
    }
   ],
   "source": [
    "#skip\n",
    "%run 00_basic.ipynb"
   ]
  },
  {
   "cell_type": "markdown",
   "metadata": {},
   "source": [
    "# Time Genreators in keras\n",
    "\n",
    "Time-series analysis requires to transform the input data into a different structure before it can be fed to LSTM.\n",
    "\n",
    "The Keras DNN library provides the TimeseriesGenerator to facilitate one of such transformation to arrange he input in batches.\n",
    "\n",
    "as a motivating example, suppose we have a time series data:\n",
    "$[0,1,2,3,4,5,,7,8,9]$ and we are using past 2 readings to predict the current data, then we need to transform the data as:\n",
    "\n",
    "```\n",
    "     X,     y\n",
    "    [0,1]   2\n",
    "    [1,2]   3\n",
    "    ...\n",
    "    [6,7]   8\n",
    "    [7,8]   9\n",
    "```\n",
    "\n",
    "There are many ways to do this; However TimeseriesGenerator makes this transformation a breeze; in addition TimeseriesGenerator does this automatically during training saving a huge amount of memory and preprocessing overhead.\n",
    "\n",
    "## Manually Converting Data\n",
    "\n",
    "Code below shows some forma of a function one can write to make this work and its corresponding usage.\n",
    "We use this dataframe for all our examples to demonstrate various functions."
   ]
  },
  {
   "cell_type": "code",
   "execution_count": 291,
   "metadata": {},
   "outputs": [
    {
     "data": {
      "text/html": [
       "<div>\n",
       "<style scoped>\n",
       "    .dataframe tbody tr th:only-of-type {\n",
       "        vertical-align: middle;\n",
       "    }\n",
       "\n",
       "    .dataframe tbody tr th {\n",
       "        vertical-align: top;\n",
       "    }\n",
       "\n",
       "    .dataframe thead th {\n",
       "        text-align: right;\n",
       "    }\n",
       "</style>\n",
       "<table border=\"1\" class=\"dataframe\">\n",
       "  <thead>\n",
       "    <tr style=\"text-align: right;\">\n",
       "      <th></th>\n",
       "      <th>0</th>\n",
       "      <th>1</th>\n",
       "    </tr>\n",
       "  </thead>\n",
       "  <tbody>\n",
       "    <tr>\n",
       "      <td>0</td>\n",
       "      <td>1</td>\n",
       "      <td>10</td>\n",
       "    </tr>\n",
       "    <tr>\n",
       "      <td>1</td>\n",
       "      <td>2</td>\n",
       "      <td>20</td>\n",
       "    </tr>\n",
       "    <tr>\n",
       "      <td>2</td>\n",
       "      <td>3</td>\n",
       "      <td>30</td>\n",
       "    </tr>\n",
       "    <tr>\n",
       "      <td>3</td>\n",
       "      <td>4</td>\n",
       "      <td>40</td>\n",
       "    </tr>\n",
       "    <tr>\n",
       "      <td>4</td>\n",
       "      <td>5</td>\n",
       "      <td>50</td>\n",
       "    </tr>\n",
       "    <tr>\n",
       "      <td>5</td>\n",
       "      <td>6</td>\n",
       "      <td>60</td>\n",
       "    </tr>\n",
       "    <tr>\n",
       "      <td>6</td>\n",
       "      <td>7</td>\n",
       "      <td>70</td>\n",
       "    </tr>\n",
       "    <tr>\n",
       "      <td>7</td>\n",
       "      <td>8</td>\n",
       "      <td>80</td>\n",
       "    </tr>\n",
       "    <tr>\n",
       "      <td>8</td>\n",
       "      <td>9</td>\n",
       "      <td>90</td>\n",
       "    </tr>\n",
       "    <tr>\n",
       "      <td>9</td>\n",
       "      <td>10</td>\n",
       "      <td>100</td>\n",
       "    </tr>\n",
       "    <tr>\n",
       "      <td>10</td>\n",
       "      <td>11</td>\n",
       "      <td>110</td>\n",
       "    </tr>\n",
       "    <tr>\n",
       "      <td>11</td>\n",
       "      <td>12</td>\n",
       "      <td>120</td>\n",
       "    </tr>\n",
       "    <tr>\n",
       "      <td>12</td>\n",
       "      <td>13</td>\n",
       "      <td>130</td>\n",
       "    </tr>\n",
       "    <tr>\n",
       "      <td>13</td>\n",
       "      <td>14</td>\n",
       "      <td>140</td>\n",
       "    </tr>\n",
       "    <tr>\n",
       "      <td>14</td>\n",
       "      <td>15</td>\n",
       "      <td>150</td>\n",
       "    </tr>\n",
       "  </tbody>\n",
       "</table>\n",
       "</div>"
      ],
      "text/plain": [
       "     0    1\n",
       "0    1   10\n",
       "1    2   20\n",
       "2    3   30\n",
       "3    4   40\n",
       "4    5   50\n",
       "5    6   60\n",
       "6    7   70\n",
       "7    8   80\n",
       "8    9   90\n",
       "9   10  100\n",
       "10  11  110\n",
       "11  12  120\n",
       "12  13  130\n",
       "13  14  140\n",
       "14  15  150"
      ]
     },
     "execution_count": 291,
     "metadata": {},
     "output_type": "execute_result"
    }
   ],
   "source": [
    "#--------------------------------------------------------------------------------\n",
    "# Manual way to transform data for LSTM\n",
    "# \n",
    "df=pd.DataFrame({0: range(1,16), 1:range(10,160,10)})\n",
    "\n",
    "def get_data(dataset, target, start, end, history, target_size, skip=1,oneStep=True):\n",
    "    data   = []\n",
    "    labels = []\n",
    "\n",
    "    start = start + history\n",
    "    if end is None:\n",
    "        end = len(dataset) - target_size\n",
    "\n",
    "    for i in range(start, end):\n",
    "        indices = range(i-history, i, skip)\n",
    "        if( len(dataset.shape) <=1 or dataset.shape[-1] == 1):\n",
    "            dt = dataset[indices]\n",
    "        else:\n",
    "            dt = np.reshape(dataset[indices], ( -1, dataset.shape[-1]))\n",
    "        data.append(dt)\n",
    "\n",
    "        if oneStep:\n",
    "            labels.append(target[i+target_size])\n",
    "        else:\n",
    "            labels.append(target[i:i+target_size])\n",
    "\n",
    "    return np.array(data), np.array(labels)\n",
    "\n",
    "# Example Data Frame \n",
    "df"
   ]
  },
  {
   "cell_type": "code",
   "execution_count": 323,
   "metadata": {},
   "outputs": [
    {
     "name": "stdout",
     "output_type": "stream",
     "text": [
      "\t[1 2] => 3\n",
      "\t[2 3] => 4\n",
      "\t[3 4] => 5\n",
      "\t[4 5] => 6\n",
      "\t[5 6] => 7\n"
     ]
    }
   ],
   "source": [
    "dv1=df.values[:,0]#.reshape((15,1))\n",
    "#dv1=df.values\n",
    "data, labels=get_data(dv1, dv1,0,None,history=2, target_size=0)\n",
    "data.shape, data, labels\n",
    "for i in range(len(data)):\n",
    "    #ll= [list(g) for g in data[i]] # for clean formatted o/p\n",
    "    ll= data[i] # for clean formatted o/p\n",
    "    print(f'\\t{ll} => {labels[i]}')\n",
    "    if (i > 3): break;"
   ]
  },
  {
   "cell_type": "code",
   "execution_count": 324,
   "metadata": {},
   "outputs": [
    {
     "name": "stdout",
     "output_type": "stream",
     "text": [
      "\t[[1], [2], [3]] => [4]\n",
      "\t[[2], [3], [4]] => [5]\n",
      "\t[[3], [4], [5]] => [6]\n",
      "\t[[4], [5], [6]] => [7]\n",
      "\t[[5], [6], [7]] => [8]\n"
     ]
    }
   ],
   "source": [
    "dv1=df.values[:,0].reshape((15,1))\n",
    "#dv1=df.values\n",
    "data, labels=get_data(dv1, dv1,0,None,history=3, target_size=0)\n",
    "data.shape, data, labels\n",
    "for i in range(len(data)):\n",
    "    ll= [list(g) for g in data[i]] # for clean formatted o/p\n",
    "    print(f'\\t{ll} => {labels[i]}')\n",
    "    if (i > 3): break;    "
   ]
  },
  {
   "cell_type": "code",
   "execution_count": 332,
   "metadata": {},
   "outputs": [
    {
     "name": "stdout",
     "output_type": "stream",
     "text": [
      "\t[[1, 10], [2, 20]] => 3\n",
      "\t[[2, 20], [3, 30]] => 4\n",
      "\t[[3, 30], [4, 40]] => 5\n",
      "\t[[4, 40], [5, 50]] => 6\n",
      "\t[[5, 50], [6, 60]] => 7\n"
     ]
    }
   ],
   "source": [
    "dv1=df.values\n",
    "# trget_size indicates how far is the predicted value\n",
    "# SKip indicates the increament for range to sample values\n",
    "data, labels=get_data(dv1, dv1[:,0],0,None,history=2, target_size=0, skip=1, oneStep=True)\n",
    "data.shape, data, labels\n",
    "for i in range(len(data)):\n",
    "    ll= [list(g) for g in data[i]] # for clean formatted o/p\n",
    "    print(f'\\t{ll} => {labels[i]}')\n",
    "    if (i > 3): break;    "
   ]
  },
  {
   "cell_type": "code",
   "execution_count": 305,
   "metadata": {},
   "outputs": [
    {
     "name": "stdout",
     "output_type": "stream",
     "text": [
      "\t[[1, 10], [3, 30]] => [4 5]\n",
      "\t[[2, 20], [4, 40]] => [5 6]\n",
      "\t[[3, 30], [5, 50]] => [6 7]\n",
      "\t[[4, 40], [6, 60]] => [7 8]\n",
      "\t[[5, 50], [7, 70]] => [8 9]\n"
     ]
    }
   ],
   "source": [
    "dv1=df.values\n",
    "#oneStep is falsem that says, we are doing multiuple step predictions\n",
    "#target size and number of predictions are combined - this is somehow not always the case\n",
    "#\n",
    "data, labels=get_data(dv1, dv1[:,0],0,None,history=3, target_size=2, skip=2, oneStep=False)\n",
    "data.shape, data, labels\n",
    "for i in range(len(data)):\n",
    "    ll= [list(g) for g in data[i]] # for clean formatted o/p\n",
    "    print(f'\\t{ll} => {labels[i]}')\n",
    "    if (i > 3): break;    "
   ]
  },
  {
   "cell_type": "markdown",
   "metadata": {},
   "source": [
    "# Using Time Series Generator\n",
    "\n",
    "As you can see from above example, preparing the dataset ahead of time is possible with number of disadvantages of using memory proportional to number of $history$.\n",
    "\n",
    "In addition managing and maintaining code can become cumbersome. \n",
    "\n",
    "For data set of length $n$, it takes, $(n-history) * history $ memory - preparing something ahead of time before hand, takes time as well and not to mention the complexity of getting the dimensions correct. Instead one can use TimeseriesGenerator as shown below that feeds LSTM just right when it needs it.\n",
    "\n",
    "In addition Time Generator can arrange the dataset suitable for batches dynamically. This is especially suitable when the data arrives incrementally."
   ]
  },
  {
   "cell_type": "code",
   "execution_count": 14,
   "metadata": {},
   "outputs": [
    {
     "name": "stdout",
     "output_type": "stream",
     "text": [
      "---> Batch size=1\n",
      "\t[['1' '2']] => ['3']\n",
      "\t[['2' '3']] => ['4']\n",
      "\t[['3' '4']] => ['5']\n",
      "\t[['4' '5']] => ['6']\n",
      "\t[['5' '6']] => ['7']\n",
      "---> Batch size=2\n",
      "\t[['1', '2', '3']] => ['4']\n",
      "\t[['2', '3', '4']] => ['5']\n",
      "\t[['3', '4', '5']] => ['6']\n",
      "\t[['4', '5', '6']] => ['7']\n",
      "\t[['5', '6', '7']] => ['8']\n"
     ]
    }
   ],
   "source": [
    "import tensorflow as tf\n",
    "from tensorflow import keras\n",
    "from numpy import array\n",
    "from tensorflow.keras.preprocessing.sequence import TimeseriesGenerator\n",
    "\n",
    "ts = df.values[:,0]\n",
    "print(\"---> Batch size=1\")\n",
    "gn1 = TimeseriesGenerator(ts, ts, length=2, batch_size=1)\n",
    "for i in range(len(gn1)):\n",
    "    x,y = gn1[i]\n",
    "    print(f'\\t{x:} => {y:}')\n",
    "    if (i > 3): break;        \n",
    "\n",
    "print(\"---> Batch size=2\")\n",
    "gn2 = TimeseriesGenerator(ts, ts, length=3, batch_size=1)\n",
    "for i in range(len(gn1)):\n",
    "    x,y = gn2[i]\n",
    "    ll= [list(g) for g in x] # for clean formatted o/p\n",
    "    print(f'\\t{ll} => {y:}')\n",
    "    if (i > 3): break;        "
   ]
  },
  {
   "cell_type": "markdown",
   "metadata": {},
   "source": [
    "In the above example, if we used it as-is, we would be using only one column from input to make prediction; besides we need to normalize the data only on the training set etc.\n",
    "\n",
    "In the next example, we will use all the columns from the sample data set, use batch size, normalize the data and see a complete example."
   ]
  },
  {
   "cell_type": "code",
   "execution_count": 448,
   "metadata": {},
   "outputs": [
    {
     "name": "stdout",
     "output_type": "stream",
     "text": [
      "\t[[[1, 10], [2, 20]]] => [3]\n",
      "\t[[[2, 20], [3, 30]]] => [4]\n",
      "\t[[[3, 30], [4, 40]]] => [5]\n",
      "\t[[[4, 40], [5, 50]]] => [6]\n",
      "\t[[[5, 50], [6, 60]]] => [7]\n"
     ]
    }
   ],
   "source": [
    "\n",
    "data = df.values\n",
    "label= df.values[:,0]\n",
    "gn3 = TimeseriesGenerator(data, label, length=2, batch_size=1)\n",
    "\n",
    "for i in range(len(gn3)):\n",
    "    x, y = gn3[i]    \n",
    "    ll= [[list(g2) for g2 in g1] for g1 in x] # for clean formatted o/p\n",
    "    print(f'\\t{ll} => {y:}')\n",
    "    if (i > 3): break;            "
   ]
  },
  {
   "cell_type": "markdown",
   "metadata": {},
   "source": [
    "# Complicated example:"
   ]
  },
  {
   "cell_type": "code",
   "execution_count": 525,
   "metadata": {},
   "outputs": [
    {
     "name": "stdout",
     "output_type": "stream",
     "text": [
      "\t[[[1, 10], [3, 30]]] => [[4 5]]\n",
      "\t[[[2, 20], [4, 40]]] => [[5 6]]\n",
      "\t[[[3, 30], [5, 50]]] => [[6 7]]\n",
      "\t[[[4, 40], [6, 60]]] => [[7 8]]\n",
      "\t[[[5, 50], [7, 70]]] => [[8 9]]\n",
      "\t[[[6, 60], [8, 80]]] => [[ 9 10]]\n",
      "\t[[[7, 70], [9, 90]]] => [[10 11]]\n",
      "\t[[[8, 80], [10, 100]]] => [[11 12]]\n",
      "\t[[[9, 90], [11, 110]]] => [[12 13]]\n",
      "\t[[[10, 100], [12, 120]]] => [[13 14]]\n",
      "\t[[[11, 110], [13, 130]]] => [[14 15]]\n"
     ]
    }
   ],
   "source": [
    "data = df.values\n",
    "# Construct Label - careful - carefully construct it - you may want to write it down:\n",
    "l1= df[0].values\n",
    "l2= pd.DataFrame({0:l1[:-1], 1: l1[1:]})\n",
    "label=np.append([0,0], l2.values).reshape(15,2)\n",
    "label\n",
    "\n",
    "gn3 = TimeseriesGenerator(data, label, length=4, batch_size=1, stride=1, sampling_rate=2)\n",
    "\n",
    "for i in range(len(gn3)):\n",
    "    x, y = gn3[i]    \n",
    "    ll= [[list(g2) for g2 in g1] for g1 in x] # for clean formatted o/p\n",
    "    print(f'\\t{ll} => {y:}')\n",
    "    #if (i > 3): break;                "
   ]
  },
  {
   "cell_type": "code",
   "execution_count": 5,
   "metadata": {},
   "outputs": [
    {
     "data": {
      "text/html": [
       "<div>\n",
       "<style scoped>\n",
       "    .dataframe tbody tr th:only-of-type {\n",
       "        vertical-align: middle;\n",
       "    }\n",
       "\n",
       "    .dataframe tbody tr th {\n",
       "        vertical-align: top;\n",
       "    }\n",
       "\n",
       "    .dataframe thead th {\n",
       "        text-align: right;\n",
       "    }\n",
       "</style>\n",
       "<table border=\"1\" class=\"dataframe\">\n",
       "  <thead>\n",
       "    <tr style=\"text-align: right;\">\n",
       "      <th></th>\n",
       "      <th>a</th>\n",
       "      <th>b</th>\n",
       "      <th>c</th>\n",
       "      <th>d</th>\n",
       "    </tr>\n",
       "  </thead>\n",
       "  <tbody>\n",
       "    <tr>\n",
       "      <th>0</th>\n",
       "      <td>1</td>\n",
       "      <td>1</td>\n",
       "      <td>1</td>\n",
       "      <td>1</td>\n",
       "    </tr>\n",
       "    <tr>\n",
       "      <th>1</th>\n",
       "      <td>2</td>\n",
       "      <td>2</td>\n",
       "      <td>2</td>\n",
       "      <td>2</td>\n",
       "    </tr>\n",
       "    <tr>\n",
       "      <th>2</th>\n",
       "      <td>3</td>\n",
       "      <td>3</td>\n",
       "      <td>3</td>\n",
       "      <td>3</td>\n",
       "    </tr>\n",
       "    <tr>\n",
       "      <th>...</th>\n",
       "      <td>...</td>\n",
       "      <td>...</td>\n",
       "      <td>...</td>\n",
       "      <td>...</td>\n",
       "    </tr>\n",
       "    <tr>\n",
       "      <th>9</th>\n",
       "      <td>0</td>\n",
       "      <td>0</td>\n",
       "      <td>0</td>\n",
       "      <td>0</td>\n",
       "    </tr>\n",
       "    <tr>\n",
       "      <th>10</th>\n",
       "      <td>a</td>\n",
       "      <td>a</td>\n",
       "      <td>a</td>\n",
       "      <td>a</td>\n",
       "    </tr>\n",
       "    <tr>\n",
       "      <th>11</th>\n",
       "      <td>b</td>\n",
       "      <td>b</td>\n",
       "      <td>b</td>\n",
       "      <td>b</td>\n",
       "    </tr>\n",
       "  </tbody>\n",
       "</table>\n",
       "<p>12 rows × 4 columns</p>\n",
       "</div>"
      ],
      "text/plain": [
       "    a  b  c  d\n",
       "0   1  1  1  1\n",
       "1   2  2  2  2\n",
       "2   3  3  3  3\n",
       ".. .. .. .. ..\n",
       "9   0  0  0  0\n",
       "10  a  a  a  a\n",
       "11  b  b  b  b\n",
       "\n",
       "[12 rows x 4 columns]"
      ]
     },
     "execution_count": 5,
     "metadata": {},
     "output_type": "execute_result"
    }
   ],
   "source": [
    "from io import StringIO\n",
    "a='''\n",
    "a,b,c,d\n",
    "1,1,1,1\n",
    "2,2,2,2\n",
    "3,3,3,3\n",
    "4,4,4,4\n",
    "5,5,5,5\n",
    "6,6,6,6\n",
    "7,7,7,7\n",
    "8,8,8,8\n",
    "9,9,9,9\n",
    "0,0,0,0\n",
    "a,a,a,a\n",
    "b,b,b,b\n",
    "'''\n",
    "df=pd.read_csv(StringIO(a))\n",
    "df"
   ]
  },
  {
   "cell_type": "code",
   "execution_count": 37,
   "metadata": {},
   "outputs": [
    {
     "data": {
      "text/plain": [
       "(12, 12, (12, 3), (12, 2))"
      ]
     },
     "execution_count": 37,
     "metadata": {},
     "output_type": "execute_result"
    }
   ],
   "source": [
    "X, y = df.iloc[:,:3].values, df.iloc[:,2:].values\n",
    "len(X), len(y), X.shape, y. shape"
   ]
  },
  {
   "cell_type": "code",
   "execution_count": 49,
   "metadata": {},
   "outputs": [
    {
     "name": "stdout",
     "output_type": "stream",
     "text": [
      "=> [[['1' '1' '1']\n",
      "  ['2' '2' '2']\n",
      "  ['3' '3' '3']\n",
      "  ['4' '4' '4']]\n",
      "\n",
      " [['3' '3' '3']\n",
      "  ['4' '4' '4']\n",
      "  ['5' '5' '5']\n",
      "  ['6' '6' '6']]] \n",
      "Y:=> [['5' '5']\n",
      " ['7' '7']]\n"
     ]
    }
   ],
   "source": [
    "#TimeseriesGenerator(\n",
    "#    data, targets, length, sampling_rate=1, stride=1, start_index=0, end_index=None,\n",
    "#    shuffle=False, reverse=False, batch_size=128\n",
    "#\n",
    "\n",
    "gn3 = TimeseriesGenerator(X, y, sampling_rate=1, length=4, batch_size=2, stride=2,\n",
    "                         start_index=0, end_index=6)\n",
    "\n",
    "for i in range(len(gn3)):\n",
    "    x1, y1 = gn3[i]    \n",
    "    #ll= [[list(g2) for g2 in g1] for g1 in x] # for clean formatted o/p\n",
    "    #print(f'\\t{ll} => {y}')\n",
    "    print(\"=>\", x1 , \"\\nY:=>\", y1)\n"
   ]
  },
  {
   "cell_type": "code",
   "execution_count": 77,
   "metadata": {},
   "outputs": [
    {
     "name": "stdout",
     "output_type": "stream",
     "text": [
      "=> [[['1' '1' '1']\n",
      "  ['2' '2' '2']\n",
      "  ['3' '3' '3']\n",
      "  ['4' '4' '4']]] \n",
      "Y:=> [[['7' '7']\n",
      "  ['8' '8']\n",
      "  ['9' '9']]]\n"
     ]
    }
   ],
   "source": [
    "from io import StringIO\n",
    "a='''\n",
    "a,b,c,d\n",
    "1,1,1,1\n",
    "2,2,2,2\n",
    "3,3,3,3\n",
    "4,4,4,4\n",
    "5,5,5,5\n",
    "6,6,6,6\n",
    "7,7,7,7\n",
    "8,8,8,8\n",
    "9,9,9,9\n",
    "0,0,0,0\n",
    "a,a,a,a\n",
    "b,b,b,b\n",
    "'''\n",
    "df=pd.read_csv(StringIO(a))\n",
    "\n",
    "class MultiStepTimeseriesGenerator(TimeseriesGenerator):\n",
    "    def __init__(self, X,y, targetLength=1, skipToTarget=0, end_index = None, **kwargs):\n",
    "        if targetLength < 1 or skipToTarget <0:\n",
    "            raise ValueError(f'Error: targetLength >=1 skipToTarget>=0')\n",
    "\n",
    "        if end_index is None:\n",
    "            end_index = len(data) - 1\n",
    "            \n",
    "        if targetLength > 1 or skipToTarget > 0:\n",
    "            end_index = end_index - targetLength - skipToTarget\n",
    "\n",
    "        super(MultiStepTimeseriesGenerator, self).__init__(X,y,end_index=end_index, **kwargs)\n",
    "        self.targetLength = targetLength\n",
    "        self.skipToTarget = skipToTarget\n",
    "\n",
    "    def __getitem__(self, index):\n",
    "        if self.shuffle:\n",
    "            rows = np.random.randint(\n",
    "                self.start_index, self.end_index + 1, size=self.batch_size)\n",
    "        else:\n",
    "            i = self.start_index + self.batch_size * self.stride * index\n",
    "            j = min(i + self.batch_size * self.stride, self.end_index + 1)\n",
    "            #print(f\"==> {i} {j}\")\n",
    "            rows = np.arange(i, j, self.stride)\n",
    "\n",
    "        samples = np.array([self.data[row - self.length : row : self.sampling_rate]\n",
    "                            for row in rows])\n",
    "        targets = np.array([self.targets[row + self.skipToTarget:\n",
    "                                         row + self.skipToTarget + self.targetLength] \n",
    "                                for row in rows])\n",
    "\n",
    "        if self.reverse:\n",
    "            return samples[:, ::-1, ...], targets\n",
    "        return samples, targets\n",
    "    \n",
    "    \n",
    "gn3 = MultiStepTimeseriesGenerator(X, y, sampling_rate=1, length=4, batch_size=2, stride=2,\n",
    "                         targetLength=3, skipToTarget=2, start_index=0, end_index=9)\n",
    "\n",
    "for i in range(len(gn3)):\n",
    "    x1, y1 = gn3[i]    \n",
    "    #ll= [[list(g2) for g2 in g1] for g1 in x] # for clean formatted o/p\n",
    "    #print(f'\\t{ll} => {y}')\n",
    "    print(\"=>\", x1 , \"\\nY:=>\", y1)\n"
   ]
  },
  {
   "cell_type": "code",
   "execution_count": 61,
   "metadata": {},
   "outputs": [
    {
     "data": {
      "text/plain": [
       "(4, 6, 1)"
      ]
     },
     "execution_count": 61,
     "metadata": {},
     "output_type": "execute_result"
    }
   ],
   "source": [
    "gn3.start_index, gn3.end_index, len(gn3)"
   ]
  }
 ],
 "metadata": {
  "hide_input": false,
  "kernelspec": {
   "display_name": "Python 3",
   "language": "python",
   "name": "python3"
  },
  "language_info": {
   "codemirror_mode": {
    "name": "ipython",
    "version": 3
   },
   "file_extension": ".py",
   "mimetype": "text/x-python",
   "name": "python",
   "nbconvert_exporter": "python",
   "pygments_lexer": "ipython3",
   "version": "3.8.3"
  },
  "toc": {
   "base_numbering": 1,
   "nav_menu": {},
   "number_sections": true,
   "sideBar": true,
   "skip_h1_title": false,
   "title_cell": "Table of Contents",
   "title_sidebar": "Contents",
   "toc_cell": false,
   "toc_position": {},
   "toc_section_display": true,
   "toc_window_display": false
  }
 },
 "nbformat": 4,
 "nbformat_minor": 4
}
