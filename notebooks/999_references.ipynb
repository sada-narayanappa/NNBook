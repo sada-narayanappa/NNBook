{
 "cells": [
  {
   "cell_type": "markdown",
   "metadata": {},
   "source": [
    "***\n",
    "\n",
    "# REFERENCES\n",
    "\n",
    "1.  D. Hawkins. Identification of Outliers, Chapman and Hall, 1980.\n",
    "2. SIAT https://www.nec.com/en/global/innovators/yoshihira/01.html\n",
    "3. SIAT https://www.nec.com/en/global/techrep/journal/g15/n02/pdf/150213.pdf?fromPDF_E6802\n",
    "4. Outlier Analysis: https://web.cs.hacettepe.edu.tr/~aykut/classes/spring2013/bil682/supplemental/outlierbook.pdf\n",
    "5. Coursera deep learning class from Andrew Ng is an excellent reference\n"
   ]
  }
 ],
 "metadata": {
  "kernelspec": {
   "display_name": "Python 3",
   "language": "python",
   "name": "python3"
  },
  "language_info": {
   "codemirror_mode": {
    "name": "ipython",
    "version": 3
   },
   "file_extension": ".py",
   "mimetype": "text/x-python",
   "name": "python",
   "nbconvert_exporter": "python",
   "pygments_lexer": "ipython3",
   "version": "3.7.4"
  }
 },
 "nbformat": 4,
 "nbformat_minor": 4
}
