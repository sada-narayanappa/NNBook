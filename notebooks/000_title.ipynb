{
 "cells": [
  {
   "cell_type": "markdown",
   "metadata": {},
   "source": [
    "<h1 style=\"font-size: 3em; text-align: right;\">Artificial Intelligence & Machine Learning Extensions</h1>\n",
    "\n",
    "<h2 style=\"text-align: right;\">Sada Narayanappa, PhD</h2>\n",
    "<br/>\n",
    "<br/>\n",
    "<br/>\n",
    "<br/>\n",
    "\n",
    "<p style=\"text-align: right;\">\n",
    "Version 2.0.135\n",
    "</p>\n",
    "    \n",
    "<br/>\n",
    "<br/>\n",
    "\n",
    "**Copyright**\n",
    "\n",
    "Title book: Machine Learning and AI Notes\n",
    "\n",
    "Author book: Sada Narayanappa\n",
    "\n",
    "© 2019, AIMLESS Publication\n",
    "\n",
    "Self publishing: aimless@aimless.com\n",
    "<br/>\n",
    "<br/>\n",
    "<br/>\n",
    "<br/>\n",
    "<br/>\n",
    "<br/>\n",
    "\n",
    "NO RIGHTS RESERVED. <i>This book contains culmination of materials from various resources. Therefore a set acknowledgment dues although missing are always honored. This is in honor for all those wonderful teachers who dedicate their time and mind to improve clarity. </i>\n"
   ]
  },
  {
   "cell_type": "code",
   "execution_count": null,
   "metadata": {},
   "outputs": [],
   "source": []
  }
 ],
 "metadata": {
  "kernelspec": {
   "display_name": "Python 3",
   "language": "python",
   "name": "python3"
  },
  "language_info": {
   "codemirror_mode": {
    "name": "ipython",
    "version": 3
   },
   "file_extension": ".py",
   "mimetype": "text/x-python",
   "name": "python",
   "nbconvert_exporter": "python",
   "pygments_lexer": "ipython3",
   "version": "3.7.4"
  }
 },
 "nbformat": 4,
 "nbformat_minor": 4
}
