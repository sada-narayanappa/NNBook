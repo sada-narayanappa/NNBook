{
 "cells": [
  {
   "cell_type": "code",
   "execution_count": null,
   "metadata": {},
   "outputs": [],
   "source": [
    "%run 00_basic.ipynb"
   ]
  },
  {
   "cell_type": "markdown",
   "metadata": {},
   "source": [
    "***\n",
    "# Anomaly Detection using Isolation Forest\n",
    "\n",
    "An **Isolation Forest** is to build trees recursively. In each iteration:\n",
    "* Pick a random feature\n",
    "* Split the data based randomly chosen value b/w the minimum and maximum of the chosen feature. \n",
    "* Repeat until the entire data set is partitioned to form an individual tree in the forest. \n",
    "\n",
    "Anomalies generally have shorter paths from the root than normal.\n",
    "An anomaly score to a point is the average path length from root to it.\n",
    "\n",
    "<img src=\"imgs/iso-forest.png\" width=200px align=\"right\" padding=”35px”> \n",
    "\n",
    "<br/>\n",
    "\n",
    "A sample set of points is shown and if we see the points in one dimension, one can see that there are no anomalies.\n",
    "\n",
    "## Draw backs\n",
    "\n",
    "* Does not work with categorical variables inherantly \n",
    "* Not a good one for missing values\n",
    "\n"
   ]
  },
  {
   "cell_type": "code",
   "execution_count": null,
   "metadata": {},
   "outputs": [],
   "source": []
  }
 ],
 "metadata": {
  "kernelspec": {
   "display_name": "Python 3",
   "language": "python",
   "name": "python3"
  },
  "language_info": {
   "codemirror_mode": {
    "name": "ipython",
    "version": 3
   },
   "file_extension": ".py",
   "mimetype": "text/x-python",
   "name": "python",
   "nbconvert_exporter": "python",
   "pygments_lexer": "ipython3",
   "version": "3.7.4"
  }
 },
 "nbformat": 4,
 "nbformat_minor": 4
}
